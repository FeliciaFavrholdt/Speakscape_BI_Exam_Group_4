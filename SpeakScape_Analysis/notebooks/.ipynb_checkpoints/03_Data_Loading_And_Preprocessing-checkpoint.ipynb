{
 "cells": [
  {
   "cell_type": "markdown",
   "id": "3246a51c-f350-4b40-b82f-8762b6b5bf41",
   "metadata": {},
   "source": [
    "# 03 — Data Loading and Preprocessing\n",
    "\n",
    "This notebook loads the cleaned TED dataset and applies additional preprocessing to prepare the data for modeling and analysis.\n",
    "\n",
    "Focus areas include:\n",
    "- Text normalization (lowercasing, punctuation removal, lemmatization)\n",
    "- Feature extraction (word/sentence/char count, readability)\n",
    "- Visualizing linguistic structures\n",
    "- Saving a preprocessed dataset for modeling"
   ]
  },
  {
   "cell_type": "code",
   "execution_count": 6,
   "id": "e6b49c7f-9c76-4845-b9cf-23cc5b21ae1f",
   "metadata": {},
   "outputs": [
    {
     "name": "stdout",
     "output_type": "stream",
     "text": [
      "Environment initialized.\n"
     ]
    }
   ],
   "source": [
    "import sys\n",
    "import os\n",
    "import pandas as pd\n",
    "import numpy as np\n",
    "import matplotlib.pyplot as plt\n",
    "import seaborn as sns\n",
    "import re\n",
    "import string\n",
    "\n",
    "sys.path.append(os.path.abspath('.'))\n",
    "from utils.setup import init_environment\n",
    "init_environment()"
   ]
  },
  {
   "cell_type": "code",
   "execution_count": 8,
   "id": "8ca424e0-c2d2-4951-8879-71b810ab9715",
   "metadata": {},
   "outputs": [
    {
     "ename": "FileNotFoundError",
     "evalue": "[Errno 2] No such file or directory: '../data/cleaned_data.csv'",
     "output_type": "error",
     "traceback": [
      "\u001b[0;31m---------------------------------------------------------------------------\u001b[0m",
      "\u001b[0;31mFileNotFoundError\u001b[0m                         Traceback (most recent call last)",
      "Cell \u001b[0;32mIn[8], line 1\u001b[0m\n\u001b[0;32m----> 1\u001b[0m df \u001b[38;5;241m=\u001b[39m pd\u001b[38;5;241m.\u001b[39mread_csv(\u001b[38;5;124m\"\u001b[39m\u001b[38;5;124m../data/cleaned_data.csv\u001b[39m\u001b[38;5;124m\"\u001b[39m)\n\u001b[1;32m      2\u001b[0m \u001b[38;5;28mprint\u001b[39m(\u001b[38;5;124mf\u001b[39m\u001b[38;5;124m\"\u001b[39m\u001b[38;5;124mShape: \u001b[39m\u001b[38;5;132;01m{\u001b[39;00mdf\u001b[38;5;241m.\u001b[39mshape\u001b[38;5;132;01m}\u001b[39;00m\u001b[38;5;124m\"\u001b[39m)\n\u001b[1;32m      3\u001b[0m df\u001b[38;5;241m.\u001b[39mhead()\n",
      "File \u001b[0;32m/opt/anaconda3/lib/python3.12/site-packages/pandas/io/parsers/readers.py:1026\u001b[0m, in \u001b[0;36mread_csv\u001b[0;34m(filepath_or_buffer, sep, delimiter, header, names, index_col, usecols, dtype, engine, converters, true_values, false_values, skipinitialspace, skiprows, skipfooter, nrows, na_values, keep_default_na, na_filter, verbose, skip_blank_lines, parse_dates, infer_datetime_format, keep_date_col, date_parser, date_format, dayfirst, cache_dates, iterator, chunksize, compression, thousands, decimal, lineterminator, quotechar, quoting, doublequote, escapechar, comment, encoding, encoding_errors, dialect, on_bad_lines, delim_whitespace, low_memory, memory_map, float_precision, storage_options, dtype_backend)\u001b[0m\n\u001b[1;32m   1013\u001b[0m kwds_defaults \u001b[38;5;241m=\u001b[39m _refine_defaults_read(\n\u001b[1;32m   1014\u001b[0m     dialect,\n\u001b[1;32m   1015\u001b[0m     delimiter,\n\u001b[0;32m   (...)\u001b[0m\n\u001b[1;32m   1022\u001b[0m     dtype_backend\u001b[38;5;241m=\u001b[39mdtype_backend,\n\u001b[1;32m   1023\u001b[0m )\n\u001b[1;32m   1024\u001b[0m kwds\u001b[38;5;241m.\u001b[39mupdate(kwds_defaults)\n\u001b[0;32m-> 1026\u001b[0m \u001b[38;5;28;01mreturn\u001b[39;00m _read(filepath_or_buffer, kwds)\n",
      "File \u001b[0;32m/opt/anaconda3/lib/python3.12/site-packages/pandas/io/parsers/readers.py:620\u001b[0m, in \u001b[0;36m_read\u001b[0;34m(filepath_or_buffer, kwds)\u001b[0m\n\u001b[1;32m    617\u001b[0m _validate_names(kwds\u001b[38;5;241m.\u001b[39mget(\u001b[38;5;124m\"\u001b[39m\u001b[38;5;124mnames\u001b[39m\u001b[38;5;124m\"\u001b[39m, \u001b[38;5;28;01mNone\u001b[39;00m))\n\u001b[1;32m    619\u001b[0m \u001b[38;5;66;03m# Create the parser.\u001b[39;00m\n\u001b[0;32m--> 620\u001b[0m parser \u001b[38;5;241m=\u001b[39m TextFileReader(filepath_or_buffer, \u001b[38;5;241m*\u001b[39m\u001b[38;5;241m*\u001b[39mkwds)\n\u001b[1;32m    622\u001b[0m \u001b[38;5;28;01mif\u001b[39;00m chunksize \u001b[38;5;129;01mor\u001b[39;00m iterator:\n\u001b[1;32m    623\u001b[0m     \u001b[38;5;28;01mreturn\u001b[39;00m parser\n",
      "File \u001b[0;32m/opt/anaconda3/lib/python3.12/site-packages/pandas/io/parsers/readers.py:1620\u001b[0m, in \u001b[0;36mTextFileReader.__init__\u001b[0;34m(self, f, engine, **kwds)\u001b[0m\n\u001b[1;32m   1617\u001b[0m     \u001b[38;5;28mself\u001b[39m\u001b[38;5;241m.\u001b[39moptions[\u001b[38;5;124m\"\u001b[39m\u001b[38;5;124mhas_index_names\u001b[39m\u001b[38;5;124m\"\u001b[39m] \u001b[38;5;241m=\u001b[39m kwds[\u001b[38;5;124m\"\u001b[39m\u001b[38;5;124mhas_index_names\u001b[39m\u001b[38;5;124m\"\u001b[39m]\n\u001b[1;32m   1619\u001b[0m \u001b[38;5;28mself\u001b[39m\u001b[38;5;241m.\u001b[39mhandles: IOHandles \u001b[38;5;241m|\u001b[39m \u001b[38;5;28;01mNone\u001b[39;00m \u001b[38;5;241m=\u001b[39m \u001b[38;5;28;01mNone\u001b[39;00m\n\u001b[0;32m-> 1620\u001b[0m \u001b[38;5;28mself\u001b[39m\u001b[38;5;241m.\u001b[39m_engine \u001b[38;5;241m=\u001b[39m \u001b[38;5;28mself\u001b[39m\u001b[38;5;241m.\u001b[39m_make_engine(f, \u001b[38;5;28mself\u001b[39m\u001b[38;5;241m.\u001b[39mengine)\n",
      "File \u001b[0;32m/opt/anaconda3/lib/python3.12/site-packages/pandas/io/parsers/readers.py:1880\u001b[0m, in \u001b[0;36mTextFileReader._make_engine\u001b[0;34m(self, f, engine)\u001b[0m\n\u001b[1;32m   1878\u001b[0m     \u001b[38;5;28;01mif\u001b[39;00m \u001b[38;5;124m\"\u001b[39m\u001b[38;5;124mb\u001b[39m\u001b[38;5;124m\"\u001b[39m \u001b[38;5;129;01mnot\u001b[39;00m \u001b[38;5;129;01min\u001b[39;00m mode:\n\u001b[1;32m   1879\u001b[0m         mode \u001b[38;5;241m+\u001b[39m\u001b[38;5;241m=\u001b[39m \u001b[38;5;124m\"\u001b[39m\u001b[38;5;124mb\u001b[39m\u001b[38;5;124m\"\u001b[39m\n\u001b[0;32m-> 1880\u001b[0m \u001b[38;5;28mself\u001b[39m\u001b[38;5;241m.\u001b[39mhandles \u001b[38;5;241m=\u001b[39m get_handle(\n\u001b[1;32m   1881\u001b[0m     f,\n\u001b[1;32m   1882\u001b[0m     mode,\n\u001b[1;32m   1883\u001b[0m     encoding\u001b[38;5;241m=\u001b[39m\u001b[38;5;28mself\u001b[39m\u001b[38;5;241m.\u001b[39moptions\u001b[38;5;241m.\u001b[39mget(\u001b[38;5;124m\"\u001b[39m\u001b[38;5;124mencoding\u001b[39m\u001b[38;5;124m\"\u001b[39m, \u001b[38;5;28;01mNone\u001b[39;00m),\n\u001b[1;32m   1884\u001b[0m     compression\u001b[38;5;241m=\u001b[39m\u001b[38;5;28mself\u001b[39m\u001b[38;5;241m.\u001b[39moptions\u001b[38;5;241m.\u001b[39mget(\u001b[38;5;124m\"\u001b[39m\u001b[38;5;124mcompression\u001b[39m\u001b[38;5;124m\"\u001b[39m, \u001b[38;5;28;01mNone\u001b[39;00m),\n\u001b[1;32m   1885\u001b[0m     memory_map\u001b[38;5;241m=\u001b[39m\u001b[38;5;28mself\u001b[39m\u001b[38;5;241m.\u001b[39moptions\u001b[38;5;241m.\u001b[39mget(\u001b[38;5;124m\"\u001b[39m\u001b[38;5;124mmemory_map\u001b[39m\u001b[38;5;124m\"\u001b[39m, \u001b[38;5;28;01mFalse\u001b[39;00m),\n\u001b[1;32m   1886\u001b[0m     is_text\u001b[38;5;241m=\u001b[39mis_text,\n\u001b[1;32m   1887\u001b[0m     errors\u001b[38;5;241m=\u001b[39m\u001b[38;5;28mself\u001b[39m\u001b[38;5;241m.\u001b[39moptions\u001b[38;5;241m.\u001b[39mget(\u001b[38;5;124m\"\u001b[39m\u001b[38;5;124mencoding_errors\u001b[39m\u001b[38;5;124m\"\u001b[39m, \u001b[38;5;124m\"\u001b[39m\u001b[38;5;124mstrict\u001b[39m\u001b[38;5;124m\"\u001b[39m),\n\u001b[1;32m   1888\u001b[0m     storage_options\u001b[38;5;241m=\u001b[39m\u001b[38;5;28mself\u001b[39m\u001b[38;5;241m.\u001b[39moptions\u001b[38;5;241m.\u001b[39mget(\u001b[38;5;124m\"\u001b[39m\u001b[38;5;124mstorage_options\u001b[39m\u001b[38;5;124m\"\u001b[39m, \u001b[38;5;28;01mNone\u001b[39;00m),\n\u001b[1;32m   1889\u001b[0m )\n\u001b[1;32m   1890\u001b[0m \u001b[38;5;28;01massert\u001b[39;00m \u001b[38;5;28mself\u001b[39m\u001b[38;5;241m.\u001b[39mhandles \u001b[38;5;129;01mis\u001b[39;00m \u001b[38;5;129;01mnot\u001b[39;00m \u001b[38;5;28;01mNone\u001b[39;00m\n\u001b[1;32m   1891\u001b[0m f \u001b[38;5;241m=\u001b[39m \u001b[38;5;28mself\u001b[39m\u001b[38;5;241m.\u001b[39mhandles\u001b[38;5;241m.\u001b[39mhandle\n",
      "File \u001b[0;32m/opt/anaconda3/lib/python3.12/site-packages/pandas/io/common.py:873\u001b[0m, in \u001b[0;36mget_handle\u001b[0;34m(path_or_buf, mode, encoding, compression, memory_map, is_text, errors, storage_options)\u001b[0m\n\u001b[1;32m    868\u001b[0m \u001b[38;5;28;01melif\u001b[39;00m \u001b[38;5;28misinstance\u001b[39m(handle, \u001b[38;5;28mstr\u001b[39m):\n\u001b[1;32m    869\u001b[0m     \u001b[38;5;66;03m# Check whether the filename is to be opened in binary mode.\u001b[39;00m\n\u001b[1;32m    870\u001b[0m     \u001b[38;5;66;03m# Binary mode does not support 'encoding' and 'newline'.\u001b[39;00m\n\u001b[1;32m    871\u001b[0m     \u001b[38;5;28;01mif\u001b[39;00m ioargs\u001b[38;5;241m.\u001b[39mencoding \u001b[38;5;129;01mand\u001b[39;00m \u001b[38;5;124m\"\u001b[39m\u001b[38;5;124mb\u001b[39m\u001b[38;5;124m\"\u001b[39m \u001b[38;5;129;01mnot\u001b[39;00m \u001b[38;5;129;01min\u001b[39;00m ioargs\u001b[38;5;241m.\u001b[39mmode:\n\u001b[1;32m    872\u001b[0m         \u001b[38;5;66;03m# Encoding\u001b[39;00m\n\u001b[0;32m--> 873\u001b[0m         handle \u001b[38;5;241m=\u001b[39m \u001b[38;5;28mopen\u001b[39m(\n\u001b[1;32m    874\u001b[0m             handle,\n\u001b[1;32m    875\u001b[0m             ioargs\u001b[38;5;241m.\u001b[39mmode,\n\u001b[1;32m    876\u001b[0m             encoding\u001b[38;5;241m=\u001b[39mioargs\u001b[38;5;241m.\u001b[39mencoding,\n\u001b[1;32m    877\u001b[0m             errors\u001b[38;5;241m=\u001b[39merrors,\n\u001b[1;32m    878\u001b[0m             newline\u001b[38;5;241m=\u001b[39m\u001b[38;5;124m\"\u001b[39m\u001b[38;5;124m\"\u001b[39m,\n\u001b[1;32m    879\u001b[0m         )\n\u001b[1;32m    880\u001b[0m     \u001b[38;5;28;01melse\u001b[39;00m:\n\u001b[1;32m    881\u001b[0m         \u001b[38;5;66;03m# Binary mode\u001b[39;00m\n\u001b[1;32m    882\u001b[0m         handle \u001b[38;5;241m=\u001b[39m \u001b[38;5;28mopen\u001b[39m(handle, ioargs\u001b[38;5;241m.\u001b[39mmode)\n",
      "\u001b[0;31mFileNotFoundError\u001b[0m: [Errno 2] No such file or directory: '../data/cleaned_data.csv'"
     ]
    }
   ],
   "source": [
    "df = pd.read_csv(\"../data/cleaned_data.csv\")\n",
    "print(f\"Shape: {df.shape}\")\n",
    "df.head()"
   ]
  },
  {
   "cell_type": "code",
   "execution_count": null,
   "id": "876c8663-344f-409f-84c1-761adfc65269",
   "metadata": {},
   "outputs": [],
   "source": [
    "## 1. Dataset Overview and Structure"
   ]
  },
  {
   "cell_type": "code",
   "execution_count": null,
   "id": "99a7911b-dd4e-42fd-97ea-708fc69d9c63",
   "metadata": {},
   "outputs": [],
   "source": [
    "# Structure + Summary\n",
    "df.info()"
   ]
  },
  {
   "cell_type": "code",
   "execution_count": null,
   "id": "c82b5766-4816-4a6c-88ba-4a189827a392",
   "metadata": {},
   "outputs": [],
   "source": [
    "# Column Summary Table\n",
    "df.describe(include='all').transpose()"
   ]
  },
  {
   "cell_type": "code",
   "execution_count": null,
   "id": "bf9adf3f-48af-4827-979a-584cd55ad466",
   "metadata": {},
   "outputs": [],
   "source": [
    "# Missing & Type Overview\n",
    "summary_df = pd.DataFrame({\n",
    "    \"Column\": df.columns,\n",
    "    \"Non-Null Count\": df.notnull().sum(),\n",
    "    \"Missing Count\": df.isnull().sum(),\n",
    "    \"Missing %\": df.isnull().mean() * 100,\n",
    "    \"Unique Values\": df.nunique(),\n",
    "    \"Data Type\": df.dtypes.values\n",
    "}).sort_values(\"Missing %\", ascending=False)\n",
    "\n",
    "summary_df.style.bar(subset=[\"Missing %\"], color='lightcoral').format({\"Missing %\": \"{:.2f}%\"})\n"
   ]
  },
  {
   "cell_type": "code",
   "execution_count": null,
   "id": "b851a6cd-8158-4f85-8106-329da1a18868",
   "metadata": {},
   "outputs": [],
   "source": [
    "### Missing Values Summary\n",
    "\n",
    "This dataset has no missing values in any column. No imputation or filling is required.\n"
   ]
  },
  {
   "cell_type": "code",
   "execution_count": null,
   "id": "1509b1f9-47bb-4ff3-989a-af0a696a10e7",
   "metadata": {},
   "outputs": [],
   "source": [
    "## 2. Clean Transcript Column\n"
   ]
  },
  {
   "cell_type": "code",
   "execution_count": null,
   "id": "29c0a414-e98e-4f9e-afb1-8af70d823281",
   "metadata": {},
   "outputs": [],
   "source": [
    "# Base Cleaning\n",
    "def clean_text(text):\n",
    "    if pd.isnull(text):\n",
    "        return \"\"\n",
    "    text = text.lower()\n",
    "    text = re.sub(r\"\\[.*?\\]\", \"\", text)\n",
    "    text = re.sub(r\"\\s+\", \" \", text)\n",
    "    text = text.translate(str.maketrans(\"\", \"\", string.punctuation))\n",
    "    return text.strip()\n",
    "\n",
    "df[\"transcript_clean\"] = df[\"transcript\"].apply(clean_text)\n"
   ]
  },
  {
   "cell_type": "code",
   "execution_count": null,
   "id": "ffa1f1b2-dd73-4198-a9e7-7d4610aa01a9",
   "metadata": {},
   "outputs": [],
   "source": [
    "### Advanced Cleaning with Stopword Removal and Lemmatization\n"
   ]
  },
  {
   "cell_type": "code",
   "execution_count": null,
   "id": "2f1a457e-3b95-4522-8d45-343ea8bfeee3",
   "metadata": {},
   "outputs": [],
   "source": [
    "# Stopword Removal + Lemmatization\n",
    "import nltk\n",
    "nltk.download('stopwords')\n",
    "nltk.download('wordnet')\n",
    "nltk.download('omw-1.4')\n",
    "from nltk.corpus import stopwords\n",
    "from nltk.stem import WordNetLemmatizer\n",
    "\n",
    "stop_words = set(stopwords.words('english'))\n",
    "lemmatizer = WordNetLemmatizer()\n",
    "\n",
    "def advanced_clean(text):\n",
    "    words = text.split()\n",
    "    words = [lemmatizer.lemmatize(w) for w in words if w not in stop_words]\n",
    "    return ' '.join(words)\n",
    "\n",
    "df[\"word_count_original\"] = df[\"transcript_clean\"].apply(lambda x: len(x.split()))\n",
    "df[\"transcript_clean\"] = df[\"transcript_clean\"].apply(advanced_clean)\n",
    "df[\"word_count\"] = df[\"transcript_clean\"].apply(lambda x: len(x.split()))\n"
   ]
  },
  {
   "cell_type": "code",
   "execution_count": null,
   "id": "284db213-d9dc-419e-8025-1519c9c0b054",
   "metadata": {},
   "outputs": [],
   "source": [
    "## 3. Extract Text Features"
   ]
  },
  {
   "cell_type": "code",
   "execution_count": null,
   "id": "69232333-f7ed-4234-95cd-623dc8631615",
   "metadata": {},
   "outputs": [],
   "source": [
    "# Character Count\n",
    "df[\"char_count\"] = df[\"transcript_clean\"].apply(len)\n"
   ]
  },
  {
   "cell_type": "code",
   "execution_count": null,
   "id": "d4b76c82-670b-436f-861f-ab429771fdd1",
   "metadata": {},
   "outputs": [],
   "source": [
    "#Sentence Count\n",
    "nltk.download(\"punkt\")\n",
    "from nltk.tokenize import sent_tokenize\n",
    "\n",
    "df[\"sentence_count\"] = df[\"transcript\"].apply(lambda x: len(sent_tokenize(x)) if pd.notnull(x) else 0)\n"
   ]
  },
  {
   "cell_type": "code",
   "execution_count": null,
   "id": "346d3bf1-abd8-4997-b713-47c75beed077",
   "metadata": {},
   "outputs": [],
   "source": [
    "## 4. Readability Metrics\n"
   ]
  },
  {
   "cell_type": "code",
   "execution_count": null,
   "id": "98cdd9f1-7cfb-4ac5-a16c-5a8058ce1deb",
   "metadata": {},
   "outputs": [],
   "source": [
    "#Readability Calculations\n",
    "df[\"avg_sentence_length\"] = df[\"word_count\"] / df[\"sentence_count\"].replace(0, np.nan)\n",
    "df[\"avg_word_length\"] = df[\"char_count\"] / df[\"word_count\"].replace(0, np.nan)\n",
    "df[\"flesch_score\"] = 206.835 - (1.015 * df[\"avg_sentence_length\"]) - (84.6 * df[\"avg_word_length\"])\n",
    "df[\"flesch_kincaid_grade\"] = (0.39 * df[\"avg_sentence_length\"]) + (11.8 * df[\"avg_word_length\"]) - 15.59\n"
   ]
  },
  {
   "cell_type": "code",
   "execution_count": null,
   "id": "e166c375-bd8f-47d6-b1a6-973bed0621ff",
   "metadata": {},
   "outputs": [],
   "source": [
    "## 5. Word Count Comparison Before vs. After Cleaning\n"
   ]
  },
  {
   "cell_type": "code",
   "execution_count": null,
   "id": "fbac6091-af65-4c1c-9d96-059b0bfdfed1",
   "metadata": {},
   "outputs": [],
   "source": [
    "# Word Count Comparison Plot\n",
    "plt.figure(figsize=(10, 5))\n",
    "sns.histplot(df[\"word_count_original\"], label=\"Original\", color=\"gray\", bins=50, kde=True)\n",
    "sns.histplot(df[\"word_count\"], label=\"After Lemmatization\", color=\"cornflowerblue\", bins=50, kde=True)\n",
    "plt.title(\"Transcript Word Count: Original vs. Cleaned\")\n",
    "plt.xlabel(\"Word Count\")\n",
    "plt.ylabel(\"Frequency\")\n",
    "plt.legend()\n",
    "plt.tight_layout()\n",
    "plt.savefig(\"../plots/wordcount_comparison.png\")\n",
    "plt.show()\n"
   ]
  },
  {
   "cell_type": "code",
   "execution_count": null,
   "id": "4556e209-e8d0-48dd-91f0-cff5e257cfd9",
   "metadata": {},
   "outputs": [],
   "source": [
    "## 6. Visualize Linguistic Distributions\n"
   ]
  },
  {
   "cell_type": "code",
   "execution_count": null,
   "id": "99f47b5b-0d07-4de2-8305-f86f5481673d",
   "metadata": {},
   "outputs": [],
   "source": [
    "# Histograms\n",
    "\n",
    "fig, axes = plt.subplots(2, 2, figsize=(12, 8))\n",
    "\n",
    "sns.histplot(df[\"sentence_count\"], bins=50, ax=axes[0, 0], color=\"skyblue\")\n",
    "axes[0, 0].set_title(\"Sentence Count\")\n",
    "\n",
    "sns.histplot(df[\"avg_sentence_length\"].dropna(), bins=50, ax=axes[0, 1], color=\"salmon\")\n",
    "axes[0, 1].set_title(\"Average Sentence Length\")\n",
    "\n",
    "sns.histplot(df[\"avg_word_length\"].dropna(), bins=50, ax=axes[1, 0], color=\"lightgreen\")\n",
    "axes[1, 0].set_title(\"Average Word Length\")\n",
    "\n",
    "sns.histplot(df[\"flesch_score\"].dropna(), bins=50, ax=axes[1, 1], color=\"orchid\")\n",
    "axes[1, 1].set_title(\"Flesch Reading Ease Score\")\n",
    "\n",
    "plt.tight_layout()\n",
    "plt.savefig(\"../plots/readability_distributions.png\")\n",
    "plt.show()\n"
   ]
  },
  {
   "cell_type": "code",
   "execution_count": null,
   "id": "432255ef-26dc-4a8d-b045-956bae0eeec8",
   "metadata": {},
   "outputs": [],
   "source": [
    "## 7. Correlation Between Linguistic Features\n"
   ]
  },
  {
   "cell_type": "code",
   "execution_count": null,
   "id": "eb1932e5-3db2-4feb-8394-0c9a86ca0f0d",
   "metadata": {},
   "outputs": [],
   "source": [
    "# Correlation Heatmap\n",
    "features_to_plot = [\n",
    "    \"word_count\", \"sentence_count\", \"char_count\",\n",
    "    \"avg_sentence_length\", \"avg_word_length\",\n",
    "    \"flesch_score\", \"flesch_kincaid_grade\"\n",
    "]\n",
    "\n",
    "plt.figure(figsize=(10, 6))\n",
    "sns.heatmap(df[features_to_plot].corr(), annot=True, cmap=\"coolwarm\", fmt=\".2f\")\n",
    "plt.title(\"Correlation of Linguistic Features\")\n",
    "plt.tight_layout()\n",
    "plt.savefig(\"../plots/linguistic_feature_correlation.png\")\n",
    "plt.show()\n"
   ]
  },
  {
   "cell_type": "code",
   "execution_count": null,
   "id": "d3ac44b5-3660-489f-8cec-8a6f3f378852",
   "metadata": {},
   "outputs": [],
   "source": [
    "## 8. Save Preprocessed Data\n"
   ]
  },
  {
   "cell_type": "code",
   "execution_count": null,
   "id": "ec70e1cd-d0c4-47da-b418-85a8ad5b1172",
   "metadata": {},
   "outputs": [],
   "source": [
    "output_path = \"../data/preprocessed_data.csv\"\n",
    "df.to_csv(output_path, index=False)\n",
    "print(f\"Preprocessed data saved to: {output_path}\")\n"
   ]
  },
  {
   "cell_type": "code",
   "execution_count": null,
   "id": "b8790cde-8ef5-4986-8a5a-c6371dce555d",
   "metadata": {},
   "outputs": [],
   "source": [
    "-----------------------"
   ]
  }
 ],
 "metadata": {
  "kernelspec": {
   "display_name": "Python [conda env:base] *",
   "language": "python",
   "name": "conda-base-py"
  },
  "language_info": {
   "codemirror_mode": {
    "name": "ipython",
    "version": 3
   },
   "file_extension": ".py",
   "mimetype": "text/x-python",
   "name": "python",
   "nbconvert_exporter": "python",
   "pygments_lexer": "ipython3",
   "version": "3.12.2"
  }
 },
 "nbformat": 4,
 "nbformat_minor": 5
}
