{
 "cells": [
  {
   "cell_type": "markdown",
   "id": "c22d133a-f71c-4453-8be1-7a00b3be7b3e",
   "metadata": {},
   "source": [
    "# 03 — Data Loading and Preprocessing"
   ]
  },
  {
   "cell_type": "markdown",
   "id": "648c508a-7f38-4389-820d-c7e07c9975d7",
   "metadata": {},
   "source": [
    "This notebook loads the cleaned TED dataset and applies additional preprocessing to prepare the data for modeling and analysis.\n",
    "\n",
    "Focus areas include:\n",
    "- Text normalization (lowercasing, punctuation removal, lemmatization)\n",
    "- Feature extraction (word/sentence/char count, readability)\n",
    "- Visualizing linguistic structures\n",
    "- Saving a preprocessed dataset for modeling"
   ]
  },
  {
   "cell_type": "code",
   "execution_count": 12,
   "id": "e6b49c7f-9c76-4845-b9cf-23cc5b21ae1f",
   "metadata": {},
   "outputs": [
    {
     "name": "stdout",
     "output_type": "stream",
     "text": [
      "Environment initialized.\n"
     ]
    }
   ],
   "source": [
    "import sys\n",
    "import os\n",
    "import pandas as pd\n",
    "import numpy as np\n",
    "import matplotlib.pyplot as plt\n",
    "import seaborn as sns\n",
    "import re\n",
    "import string\n",
    "import textstat\n",
    "\n",
    "sys.path.append(os.path.abspath('.'))\n",
    "from utils.setup import init_environment\n",
    "init_environment()"
   ]
  },
  {
   "cell_type": "code",
   "execution_count": 16,
   "id": "8ca424e0-c2d2-4951-8879-71b810ab9715",
   "metadata": {},
   "outputs": [
    {
     "name": "stdout",
     "output_type": "stream",
     "text": [
      "Shape: (4095, 13)\n"
     ]
    },
    {
     "data": {
      "text/html": [
       "<div>\n",
       "<style scoped>\n",
       "    .dataframe tbody tr th:only-of-type {\n",
       "        vertical-align: middle;\n",
       "    }\n",
       "\n",
       "    .dataframe tbody tr th {\n",
       "        vertical-align: top;\n",
       "    }\n",
       "\n",
       "    .dataframe thead th {\n",
       "        text-align: right;\n",
       "    }\n",
       "</style>\n",
       "<table border=\"1\" class=\"dataframe\">\n",
       "  <thead>\n",
       "    <tr style=\"text-align: right;\">\n",
       "      <th></th>\n",
       "      <th>key_column</th>\n",
       "      <th>speaker_occupation</th>\n",
       "      <th>speaker</th>\n",
       "      <th>transcript</th>\n",
       "      <th>event</th>\n",
       "      <th>description</th>\n",
       "      <th>title</th>\n",
       "      <th>recorded_date</th>\n",
       "      <th>views</th>\n",
       "      <th>duration</th>\n",
       "      <th>url</th>\n",
       "      <th>tags</th>\n",
       "      <th>completeness_score</th>\n",
       "    </tr>\n",
       "  </thead>\n",
       "  <tbody>\n",
       "    <tr>\n",
       "      <th>0</th>\n",
       "      <td>https://www.ted.com/talks/maira_kalman_the_ill...</td>\n",
       "      <td>Illustrator, author</td>\n",
       "      <td>Maira Kalman</td>\n",
       "      <td>What I am always thinking about is what this s...</td>\n",
       "      <td>TED2007</td>\n",
       "      <td>Author and illustrator Maira Kalman talks abou...</td>\n",
       "      <td>The illustrated woman</td>\n",
       "      <td>2007-03-03</td>\n",
       "      <td>815011</td>\n",
       "      <td>1050</td>\n",
       "      <td>https://www.ted.com/talks/maira_kalman_the_ill...</td>\n",
       "      <td>['art', 'children', 'culture', 'design', 'ente...</td>\n",
       "      <td>100.0</td>\n",
       "    </tr>\n",
       "    <tr>\n",
       "      <th>1</th>\n",
       "      <td>https://www.ted.com/talks/virginia_postrel_on_...</td>\n",
       "      <td>Journalist</td>\n",
       "      <td>Virginia Postrel</td>\n",
       "      <td>You might be wondering why I'm wearing sunglas...</td>\n",
       "      <td>TED2004</td>\n",
       "      <td>In a timely talk, cultural critic Virginia Pos...</td>\n",
       "      <td>On glamour</td>\n",
       "      <td>2004-02-02</td>\n",
       "      <td>424070</td>\n",
       "      <td>975</td>\n",
       "      <td>https://www.ted.com/talks/virginia_postrel_on_...</td>\n",
       "      <td>['beauty', 'business', 'culture', 'entertainme...</td>\n",
       "      <td>100.0</td>\n",
       "    </tr>\n",
       "    <tr>\n",
       "      <th>2</th>\n",
       "      <td>https://www.ted.com/talks/robert_wright_the_ev...</td>\n",
       "      <td>Journalist, philosopher</td>\n",
       "      <td>Robert Wright</td>\n",
       "      <td>I'm going to talk about compassion and the gol...</td>\n",
       "      <td>TEDSalon 2009 Compassion</td>\n",
       "      <td>Robert Wright uses evolutionary biology and ga...</td>\n",
       "      <td>The evolution of compassion</td>\n",
       "      <td>2009-10-14</td>\n",
       "      <td>298774</td>\n",
       "      <td>1016</td>\n",
       "      <td>https://www.ted.com/talks/robert_wright_the_ev...</td>\n",
       "      <td>['charter for compassion', 'compassion', 'evol...</td>\n",
       "      <td>100.0</td>\n",
       "    </tr>\n",
       "    <tr>\n",
       "      <th>3</th>\n",
       "      <td>https://www.ted.com/talks/dennis_vanengelsdorp...</td>\n",
       "      <td>Bee expert</td>\n",
       "      <td>Dennis vanEngelsdorp</td>\n",
       "      <td>What I'd like you to do is, just really quickl...</td>\n",
       "      <td>Taste3 2008</td>\n",
       "      <td>Bees are dying in droves. Why? Leading apiaris...</td>\n",
       "      <td>A plea for bees</td>\n",
       "      <td>2008-07-19</td>\n",
       "      <td>765570</td>\n",
       "      <td>988</td>\n",
       "      <td>https://www.ted.com/talks/dennis_vanengelsdorp...</td>\n",
       "      <td>['animals', 'bees', 'disease', 'food', 'insect...</td>\n",
       "      <td>100.0</td>\n",
       "    </tr>\n",
       "    <tr>\n",
       "      <th>4</th>\n",
       "      <td>https://www.ted.com/talks/barry_schuler_genomi...</td>\n",
       "      <td>Entrepreneur</td>\n",
       "      <td>Barry Schuler</td>\n",
       "      <td>What's happening in genomics, and how this rev...</td>\n",
       "      <td>Taste3 2008</td>\n",
       "      <td>What is genomics? How will it affect our lives...</td>\n",
       "      <td>Genomics 101</td>\n",
       "      <td>2008-06-30</td>\n",
       "      <td>458222</td>\n",
       "      <td>1286</td>\n",
       "      <td>https://www.ted.com/talks/barry_schuler_genomi...</td>\n",
       "      <td>['biology', 'entrepreneur', 'food', 'genetics'...</td>\n",
       "      <td>100.0</td>\n",
       "    </tr>\n",
       "  </tbody>\n",
       "</table>\n",
       "</div>"
      ],
      "text/plain": [
       "                                          key_column       speaker_occupation  \\\n",
       "0  https://www.ted.com/talks/maira_kalman_the_ill...      Illustrator, author   \n",
       "1  https://www.ted.com/talks/virginia_postrel_on_...               Journalist   \n",
       "2  https://www.ted.com/talks/robert_wright_the_ev...  Journalist, philosopher   \n",
       "3  https://www.ted.com/talks/dennis_vanengelsdorp...               Bee expert   \n",
       "4  https://www.ted.com/talks/barry_schuler_genomi...             Entrepreneur   \n",
       "\n",
       "                speaker                                         transcript  \\\n",
       "0          Maira Kalman  What I am always thinking about is what this s...   \n",
       "1      Virginia Postrel  You might be wondering why I'm wearing sunglas...   \n",
       "2         Robert Wright  I'm going to talk about compassion and the gol...   \n",
       "3  Dennis vanEngelsdorp  What I'd like you to do is, just really quickl...   \n",
       "4         Barry Schuler  What's happening in genomics, and how this rev...   \n",
       "\n",
       "                      event  \\\n",
       "0                   TED2007   \n",
       "1                   TED2004   \n",
       "2  TEDSalon 2009 Compassion   \n",
       "3               Taste3 2008   \n",
       "4               Taste3 2008   \n",
       "\n",
       "                                         description  \\\n",
       "0  Author and illustrator Maira Kalman talks abou...   \n",
       "1  In a timely talk, cultural critic Virginia Pos...   \n",
       "2  Robert Wright uses evolutionary biology and ga...   \n",
       "3  Bees are dying in droves. Why? Leading apiaris...   \n",
       "4  What is genomics? How will it affect our lives...   \n",
       "\n",
       "                         title recorded_date   views  duration  \\\n",
       "0        The illustrated woman    2007-03-03  815011      1050   \n",
       "1                   On glamour    2004-02-02  424070       975   \n",
       "2  The evolution of compassion    2009-10-14  298774      1016   \n",
       "3              A plea for bees    2008-07-19  765570       988   \n",
       "4                 Genomics 101    2008-06-30  458222      1286   \n",
       "\n",
       "                                                 url  \\\n",
       "0  https://www.ted.com/talks/maira_kalman_the_ill...   \n",
       "1  https://www.ted.com/talks/virginia_postrel_on_...   \n",
       "2  https://www.ted.com/talks/robert_wright_the_ev...   \n",
       "3  https://www.ted.com/talks/dennis_vanengelsdorp...   \n",
       "4  https://www.ted.com/talks/barry_schuler_genomi...   \n",
       "\n",
       "                                                tags  completeness_score  \n",
       "0  ['art', 'children', 'culture', 'design', 'ente...               100.0  \n",
       "1  ['beauty', 'business', 'culture', 'entertainme...               100.0  \n",
       "2  ['charter for compassion', 'compassion', 'evol...               100.0  \n",
       "3  ['animals', 'bees', 'disease', 'food', 'insect...               100.0  \n",
       "4  ['biology', 'entrepreneur', 'food', 'genetics'...               100.0  "
      ]
     },
     "execution_count": 16,
     "metadata": {},
     "output_type": "execute_result"
    }
   ],
   "source": []
  },
  {
   "cell_type": "markdown",
   "id": "3643faae-bf43-4180-ac65-454eb3703535",
   "metadata": {},
   "source": [
    "## Dataset Overview\n",
    "\n",
    "We begin by inspecting the structure and completeness of the dataset. Key content columns include the transcript, speaker metadata, tags, and engagement metrics (views).\n",
    "\n",
    "This step confirms readiness for preprocessing and highlights potential cleaning needs.\n"
   ]
  },
  {
   "cell_type": "code",
   "execution_count": 31,
   "id": "99a7911b-dd4e-42fd-97ea-708fc69d9c63",
   "metadata": {
    "scrolled": true
   },
   "outputs": [
    {
     "name": "stdout",
     "output_type": "stream",
     "text": [
      "<class 'pandas.core.frame.DataFrame'>\n",
      "RangeIndex: 4095 entries, 0 to 4094\n",
      "Data columns (total 13 columns):\n",
      " #   Column              Non-Null Count  Dtype  \n",
      "---  ------              --------------  -----  \n",
      " 0   key_column          4095 non-null   object \n",
      " 1   speaker_occupation  4095 non-null   object \n",
      " 2   speaker             4095 non-null   object \n",
      " 3   transcript          4095 non-null   object \n",
      " 4   event               4095 non-null   object \n",
      " 5   description         4095 non-null   object \n",
      " 6   title               4095 non-null   object \n",
      " 7   recorded_date       4095 non-null   object \n",
      " 8   views               4095 non-null   int64  \n",
      " 9   duration            4095 non-null   int64  \n",
      " 10  url                 4095 non-null   object \n",
      " 11  tags                4095 non-null   object \n",
      " 12  completeness_score  4095 non-null   float64\n",
      "dtypes: float64(1), int64(2), object(10)\n",
      "memory usage: 416.0+ KB\n"
     ]
    }
   ],
   "source": [
    "# Structure + Summary\n",
    "df.info()"
   ]
  },
  {
   "cell_type": "markdown",
   "id": "aa8a70c6-d15e-4fcc-8018-fe7f71cb9caa",
   "metadata": {},
   "source": [
    "### Structure & Completeness Check\n",
    "\n",
    "All 13 columns are present and fully populated — no missing values to handle.  \n",
    "Data types are appropriate for further analysis and feature engineering.\n",
    "\n",
    "- `transcript`, `tags`, `speaker` and `event` are ready for text processing\n",
    "- `views` and `duration` are numeric and suitable for modeling\n",
    "- `recorded_date` may be converted to datetime if we later explore trends over time"
   ]
  },
  {
   "cell_type": "code",
   "execution_count": 34,
   "id": "c82b5766-4816-4a6c-88ba-4a189827a392",
   "metadata": {},
   "outputs": [
    {
     "data": {
      "text/html": [
       "<div>\n",
       "<style scoped>\n",
       "    .dataframe tbody tr th:only-of-type {\n",
       "        vertical-align: middle;\n",
       "    }\n",
       "\n",
       "    .dataframe tbody tr th {\n",
       "        vertical-align: top;\n",
       "    }\n",
       "\n",
       "    .dataframe thead th {\n",
       "        text-align: right;\n",
       "    }\n",
       "</style>\n",
       "<table border=\"1\" class=\"dataframe\">\n",
       "  <thead>\n",
       "    <tr style=\"text-align: right;\">\n",
       "      <th></th>\n",
       "      <th>count</th>\n",
       "      <th>unique</th>\n",
       "      <th>top</th>\n",
       "      <th>freq</th>\n",
       "      <th>mean</th>\n",
       "      <th>std</th>\n",
       "      <th>min</th>\n",
       "      <th>25%</th>\n",
       "      <th>50%</th>\n",
       "      <th>75%</th>\n",
       "      <th>max</th>\n",
       "    </tr>\n",
       "  </thead>\n",
       "  <tbody>\n",
       "    <tr>\n",
       "      <th>key_column</th>\n",
       "      <td>4095</td>\n",
       "      <td>4095</td>\n",
       "      <td>https://www.ted.com/talks/maira_kalman_the_ill...</td>\n",
       "      <td>1</td>\n",
       "      <td>NaN</td>\n",
       "      <td>NaN</td>\n",
       "      <td>NaN</td>\n",
       "      <td>NaN</td>\n",
       "      <td>NaN</td>\n",
       "      <td>NaN</td>\n",
       "      <td>NaN</td>\n",
       "    </tr>\n",
       "    <tr>\n",
       "      <th>speaker_occupation</th>\n",
       "      <td>4095</td>\n",
       "      <td>2033</td>\n",
       "      <td>Unknown</td>\n",
       "      <td>548</td>\n",
       "      <td>NaN</td>\n",
       "      <td>NaN</td>\n",
       "      <td>NaN</td>\n",
       "      <td>NaN</td>\n",
       "      <td>NaN</td>\n",
       "      <td>NaN</td>\n",
       "      <td>NaN</td>\n",
       "    </tr>\n",
       "    <tr>\n",
       "      <th>speaker</th>\n",
       "      <td>4095</td>\n",
       "      <td>3377</td>\n",
       "      <td>Alex Gendler</td>\n",
       "      <td>34</td>\n",
       "      <td>NaN</td>\n",
       "      <td>NaN</td>\n",
       "      <td>NaN</td>\n",
       "      <td>NaN</td>\n",
       "      <td>NaN</td>\n",
       "      <td>NaN</td>\n",
       "      <td>NaN</td>\n",
       "    </tr>\n",
       "    <tr>\n",
       "      <th>transcript</th>\n",
       "      <td>4095</td>\n",
       "      <td>4083</td>\n",
       "      <td>I learned about the Haiti earthquake by Skype....</td>\n",
       "      <td>2</td>\n",
       "      <td>NaN</td>\n",
       "      <td>NaN</td>\n",
       "      <td>NaN</td>\n",
       "      <td>NaN</td>\n",
       "      <td>NaN</td>\n",
       "      <td>NaN</td>\n",
       "      <td>NaN</td>\n",
       "    </tr>\n",
       "    <tr>\n",
       "      <th>event</th>\n",
       "      <td>4095</td>\n",
       "      <td>471</td>\n",
       "      <td>TED-Ed</td>\n",
       "      <td>585</td>\n",
       "      <td>NaN</td>\n",
       "      <td>NaN</td>\n",
       "      <td>NaN</td>\n",
       "      <td>NaN</td>\n",
       "      <td>NaN</td>\n",
       "      <td>NaN</td>\n",
       "      <td>NaN</td>\n",
       "    </tr>\n",
       "    <tr>\n",
       "      <th>description</th>\n",
       "      <td>4095</td>\n",
       "      <td>4087</td>\n",
       "      <td>Sir Ken Robinson outlines 3 principles crucial...</td>\n",
       "      <td>2</td>\n",
       "      <td>NaN</td>\n",
       "      <td>NaN</td>\n",
       "      <td>NaN</td>\n",
       "      <td>NaN</td>\n",
       "      <td>NaN</td>\n",
       "      <td>NaN</td>\n",
       "      <td>NaN</td>\n",
       "    </tr>\n",
       "    <tr>\n",
       "      <th>title</th>\n",
       "      <td>4095</td>\n",
       "      <td>4087</td>\n",
       "      <td>How to escape education's death valley</td>\n",
       "      <td>2</td>\n",
       "      <td>NaN</td>\n",
       "      <td>NaN</td>\n",
       "      <td>NaN</td>\n",
       "      <td>NaN</td>\n",
       "      <td>NaN</td>\n",
       "      <td>NaN</td>\n",
       "      <td>NaN</td>\n",
       "    </tr>\n",
       "    <tr>\n",
       "      <th>recorded_date</th>\n",
       "      <td>4095</td>\n",
       "      <td>1378</td>\n",
       "      <td>2017-04-24</td>\n",
       "      <td>98</td>\n",
       "      <td>NaN</td>\n",
       "      <td>NaN</td>\n",
       "      <td>NaN</td>\n",
       "      <td>NaN</td>\n",
       "      <td>NaN</td>\n",
       "      <td>NaN</td>\n",
       "      <td>NaN</td>\n",
       "    </tr>\n",
       "    <tr>\n",
       "      <th>views</th>\n",
       "      <td>4095.0</td>\n",
       "      <td>NaN</td>\n",
       "      <td>NaN</td>\n",
       "      <td>NaN</td>\n",
       "      <td>2187595.272039</td>\n",
       "      <td>3590482.784913</td>\n",
       "      <td>6829.0</td>\n",
       "      <td>887358.0</td>\n",
       "      <td>1387473.0</td>\n",
       "      <td>2156902.5</td>\n",
       "      <td>65678748.0</td>\n",
       "    </tr>\n",
       "    <tr>\n",
       "      <th>duration</th>\n",
       "      <td>4095.0</td>\n",
       "      <td>NaN</td>\n",
       "      <td>NaN</td>\n",
       "      <td>NaN</td>\n",
       "      <td>725.575336</td>\n",
       "      <td>369.348435</td>\n",
       "      <td>60.0</td>\n",
       "      <td>391.0</td>\n",
       "      <td>737.0</td>\n",
       "      <td>973.0</td>\n",
       "      <td>3991.0</td>\n",
       "    </tr>\n",
       "    <tr>\n",
       "      <th>url</th>\n",
       "      <td>4095</td>\n",
       "      <td>4095</td>\n",
       "      <td>https://www.ted.com/talks/maira_kalman_the_ill...</td>\n",
       "      <td>1</td>\n",
       "      <td>NaN</td>\n",
       "      <td>NaN</td>\n",
       "      <td>NaN</td>\n",
       "      <td>NaN</td>\n",
       "      <td>NaN</td>\n",
       "      <td>NaN</td>\n",
       "      <td>NaN</td>\n",
       "    </tr>\n",
       "    <tr>\n",
       "      <th>tags</th>\n",
       "      <td>4095</td>\n",
       "      <td>4060</td>\n",
       "      <td>['ted-ed', 'math']</td>\n",
       "      <td>8</td>\n",
       "      <td>NaN</td>\n",
       "      <td>NaN</td>\n",
       "      <td>NaN</td>\n",
       "      <td>NaN</td>\n",
       "      <td>NaN</td>\n",
       "      <td>NaN</td>\n",
       "      <td>NaN</td>\n",
       "    </tr>\n",
       "    <tr>\n",
       "      <th>completeness_score</th>\n",
       "      <td>4095.0</td>\n",
       "      <td>NaN</td>\n",
       "      <td>NaN</td>\n",
       "      <td>NaN</td>\n",
       "      <td>100.0</td>\n",
       "      <td>0.0</td>\n",
       "      <td>100.0</td>\n",
       "      <td>100.0</td>\n",
       "      <td>100.0</td>\n",
       "      <td>100.0</td>\n",
       "      <td>100.0</td>\n",
       "    </tr>\n",
       "  </tbody>\n",
       "</table>\n",
       "</div>"
      ],
      "text/plain": [
       "                     count unique  \\\n",
       "key_column            4095   4095   \n",
       "speaker_occupation    4095   2033   \n",
       "speaker               4095   3377   \n",
       "transcript            4095   4083   \n",
       "event                 4095    471   \n",
       "description           4095   4087   \n",
       "title                 4095   4087   \n",
       "recorded_date         4095   1378   \n",
       "views               4095.0    NaN   \n",
       "duration            4095.0    NaN   \n",
       "url                   4095   4095   \n",
       "tags                  4095   4060   \n",
       "completeness_score  4095.0    NaN   \n",
       "\n",
       "                                                                  top freq  \\\n",
       "key_column          https://www.ted.com/talks/maira_kalman_the_ill...    1   \n",
       "speaker_occupation                                            Unknown  548   \n",
       "speaker                                                  Alex Gendler   34   \n",
       "transcript          I learned about the Haiti earthquake by Skype....    2   \n",
       "event                                                          TED-Ed  585   \n",
       "description         Sir Ken Robinson outlines 3 principles crucial...    2   \n",
       "title                          How to escape education's death valley    2   \n",
       "recorded_date                                              2017-04-24   98   \n",
       "views                                                             NaN  NaN   \n",
       "duration                                                          NaN  NaN   \n",
       "url                 https://www.ted.com/talks/maira_kalman_the_ill...    1   \n",
       "tags                                               ['ted-ed', 'math']    8   \n",
       "completeness_score                                                NaN  NaN   \n",
       "\n",
       "                              mean             std     min       25%  \\\n",
       "key_column                     NaN             NaN     NaN       NaN   \n",
       "speaker_occupation             NaN             NaN     NaN       NaN   \n",
       "speaker                        NaN             NaN     NaN       NaN   \n",
       "transcript                     NaN             NaN     NaN       NaN   \n",
       "event                          NaN             NaN     NaN       NaN   \n",
       "description                    NaN             NaN     NaN       NaN   \n",
       "title                          NaN             NaN     NaN       NaN   \n",
       "recorded_date                  NaN             NaN     NaN       NaN   \n",
       "views               2187595.272039  3590482.784913  6829.0  887358.0   \n",
       "duration                725.575336      369.348435    60.0     391.0   \n",
       "url                            NaN             NaN     NaN       NaN   \n",
       "tags                           NaN             NaN     NaN       NaN   \n",
       "completeness_score           100.0             0.0   100.0     100.0   \n",
       "\n",
       "                          50%        75%         max  \n",
       "key_column                NaN        NaN         NaN  \n",
       "speaker_occupation        NaN        NaN         NaN  \n",
       "speaker                   NaN        NaN         NaN  \n",
       "transcript                NaN        NaN         NaN  \n",
       "event                     NaN        NaN         NaN  \n",
       "description               NaN        NaN         NaN  \n",
       "title                     NaN        NaN         NaN  \n",
       "recorded_date             NaN        NaN         NaN  \n",
       "views               1387473.0  2156902.5  65678748.0  \n",
       "duration                737.0      973.0      3991.0  \n",
       "url                       NaN        NaN         NaN  \n",
       "tags                      NaN        NaN         NaN  \n",
       "completeness_score      100.0      100.0       100.0  "
      ]
     },
     "execution_count": 34,
     "metadata": {},
     "output_type": "execute_result"
    }
   ],
   "source": [
    "# Column Summary Table\n",
    "df.describe(include='all').transpose()"
   ]
  },
  {
   "cell_type": "markdown",
   "id": "0f5b722b-e388-4c40-b9d5-ed84e3485f26",
   "metadata": {},
   "source": [
    "\n",
    "### Summary of Key Findings\n",
    "\n",
    "**Categorical/Text Columns:**\n",
    "\n",
    "| Column              | Notes                                                    |\n",
    "|---------------------|----------------------------------------------------------|\n",
    "| `speaker_occupation`| 2,033 unique values — very diverse roles (many unknowns) |\n",
    "| `speaker`           | 3,377 unique — most speakers appear only once            |\n",
    "| `title`, `description`, `transcript` | Near 1:1 uniqueness — perfect for NLP             |\n",
    "| `event`             | 471 unique — TED-Ed appears most (585 times)             |\n",
    "| `tags`              | 4,060 unique — good diversity in topic labeling          |\n",
    "| `recorded_date`     | 1,378 unique dates — date analysis is possible if needed |\n",
    "\n",
    "**Numeric Columns:**\n",
    "\n",
    "| Column              | Min → Max              | Comment                                     |\n",
    "|---------------------|------------------------|---------------------------------------------|\n",
    "| `views`             | 6,829 → 65,678,748     | Highly skewed — some talks are viral outliers |\n",
    "| `duration`          | 60 sec → 3,991 sec     | Wide range — from ~1 min to over 1 hour     |\n",
    "| `completeness_score`| Always 100%            | Good — no filtering needed here             |\n",
    "\n"
   ]
  },
  {
   "cell_type": "markdown",
   "id": "da345697-393b-49a8-925f-05572e591696",
   "metadata": {
    "jp-MarkdownHeadingCollapsed": true
   },
   "source": [
    "### Column Summary Insights\n",
    "\n",
    "- **Speaker and event diversity**: Over 3,000 speakers and 400+ unique events are represented, showing wide topical coverage.\n",
    "- **Views** are highly skewed — some talks are exceptionally popular.\n",
    "- **Tags** and **titles** are nearly unique, confirming that each entry is a distinct talk.\n",
    "- **Transcript**, `description`, and `title` fields are well-populated and ready for NLP feature extraction."
   ]
  },
  {
   "cell_type": "markdown",
   "id": "8bc2c8c2-5762-4619-825d-a8fa85c3741c",
   "metadata": {},
   "source": [
    "## Missingness and Column Overview\n",
    "\n",
    "We now generate a detailed summary of each column, including:\n",
    "\n",
    "- Total and percentage of missing values\n",
    "- Number of unique entries (categorical diversity)\n",
    "- Data type for modeling readiness"
   ]
  },
  {
   "cell_type": "code",
   "execution_count": 48,
   "id": "bf9adf3f-48af-4827-979a-584cd55ad466",
   "metadata": {},
   "outputs": [
    {
     "name": "stderr",
     "output_type": "stream",
     "text": [
      "/opt/anaconda3/lib/python3.12/site-packages/pandas/io/formats/style.py:4040: RuntimeWarning: invalid value encountered in scalar divide\n",
      "  end = (x - left) / (right - left)\n"
     ]
    },
    {
     "data": {
      "text/html": [
       "<style type=\"text/css\">\n",
       "#T_f8809_row0_col3, #T_f8809_row1_col3, #T_f8809_row2_col3, #T_f8809_row3_col3, #T_f8809_row4_col3, #T_f8809_row5_col3, #T_f8809_row6_col3, #T_f8809_row7_col3, #T_f8809_row8_col3, #T_f8809_row9_col3, #T_f8809_row10_col3, #T_f8809_row11_col3, #T_f8809_row12_col3, #T_f8809_row13_col3 {\n",
       "  width: 10em;\n",
       "}\n",
       "</style>\n",
       "<table id=\"T_f8809\">\n",
       "  <thead>\n",
       "    <tr>\n",
       "      <th class=\"blank level0\" >&nbsp;</th>\n",
       "      <th id=\"T_f8809_level0_col0\" class=\"col_heading level0 col0\" >Column</th>\n",
       "      <th id=\"T_f8809_level0_col1\" class=\"col_heading level0 col1\" >Non-Null Count</th>\n",
       "      <th id=\"T_f8809_level0_col2\" class=\"col_heading level0 col2\" >Missing Count</th>\n",
       "      <th id=\"T_f8809_level0_col3\" class=\"col_heading level0 col3\" >Missing %</th>\n",
       "      <th id=\"T_f8809_level0_col4\" class=\"col_heading level0 col4\" >Unique Values</th>\n",
       "      <th id=\"T_f8809_level0_col5\" class=\"col_heading level0 col5\" >Data Type</th>\n",
       "    </tr>\n",
       "  </thead>\n",
       "  <tbody>\n",
       "    <tr>\n",
       "      <th id=\"T_f8809_level0_row0\" class=\"row_heading level0 row0\" >key_column</th>\n",
       "      <td id=\"T_f8809_row0_col0\" class=\"data row0 col0\" >key_column</td>\n",
       "      <td id=\"T_f8809_row0_col1\" class=\"data row0 col1\" >4095</td>\n",
       "      <td id=\"T_f8809_row0_col2\" class=\"data row0 col2\" >0</td>\n",
       "      <td id=\"T_f8809_row0_col3\" class=\"data row0 col3\" >0.00%</td>\n",
       "      <td id=\"T_f8809_row0_col4\" class=\"data row0 col4\" >4095</td>\n",
       "      <td id=\"T_f8809_row0_col5\" class=\"data row0 col5\" >object</td>\n",
       "    </tr>\n",
       "    <tr>\n",
       "      <th id=\"T_f8809_level0_row1\" class=\"row_heading level0 row1\" >speaker_occupation</th>\n",
       "      <td id=\"T_f8809_row1_col0\" class=\"data row1 col0\" >speaker_occupation</td>\n",
       "      <td id=\"T_f8809_row1_col1\" class=\"data row1 col1\" >4095</td>\n",
       "      <td id=\"T_f8809_row1_col2\" class=\"data row1 col2\" >0</td>\n",
       "      <td id=\"T_f8809_row1_col3\" class=\"data row1 col3\" >0.00%</td>\n",
       "      <td id=\"T_f8809_row1_col4\" class=\"data row1 col4\" >2033</td>\n",
       "      <td id=\"T_f8809_row1_col5\" class=\"data row1 col5\" >object</td>\n",
       "    </tr>\n",
       "    <tr>\n",
       "      <th id=\"T_f8809_level0_row2\" class=\"row_heading level0 row2\" >speaker</th>\n",
       "      <td id=\"T_f8809_row2_col0\" class=\"data row2 col0\" >speaker</td>\n",
       "      <td id=\"T_f8809_row2_col1\" class=\"data row2 col1\" >4095</td>\n",
       "      <td id=\"T_f8809_row2_col2\" class=\"data row2 col2\" >0</td>\n",
       "      <td id=\"T_f8809_row2_col3\" class=\"data row2 col3\" >0.00%</td>\n",
       "      <td id=\"T_f8809_row2_col4\" class=\"data row2 col4\" >3377</td>\n",
       "      <td id=\"T_f8809_row2_col5\" class=\"data row2 col5\" >object</td>\n",
       "    </tr>\n",
       "    <tr>\n",
       "      <th id=\"T_f8809_level0_row3\" class=\"row_heading level0 row3\" >transcript</th>\n",
       "      <td id=\"T_f8809_row3_col0\" class=\"data row3 col0\" >transcript</td>\n",
       "      <td id=\"T_f8809_row3_col1\" class=\"data row3 col1\" >4095</td>\n",
       "      <td id=\"T_f8809_row3_col2\" class=\"data row3 col2\" >0</td>\n",
       "      <td id=\"T_f8809_row3_col3\" class=\"data row3 col3\" >0.00%</td>\n",
       "      <td id=\"T_f8809_row3_col4\" class=\"data row3 col4\" >4083</td>\n",
       "      <td id=\"T_f8809_row3_col5\" class=\"data row3 col5\" >object</td>\n",
       "    </tr>\n",
       "    <tr>\n",
       "      <th id=\"T_f8809_level0_row4\" class=\"row_heading level0 row4\" >event</th>\n",
       "      <td id=\"T_f8809_row4_col0\" class=\"data row4 col0\" >event</td>\n",
       "      <td id=\"T_f8809_row4_col1\" class=\"data row4 col1\" >4095</td>\n",
       "      <td id=\"T_f8809_row4_col2\" class=\"data row4 col2\" >0</td>\n",
       "      <td id=\"T_f8809_row4_col3\" class=\"data row4 col3\" >0.00%</td>\n",
       "      <td id=\"T_f8809_row4_col4\" class=\"data row4 col4\" >471</td>\n",
       "      <td id=\"T_f8809_row4_col5\" class=\"data row4 col5\" >object</td>\n",
       "    </tr>\n",
       "    <tr>\n",
       "      <th id=\"T_f8809_level0_row5\" class=\"row_heading level0 row5\" >description</th>\n",
       "      <td id=\"T_f8809_row5_col0\" class=\"data row5 col0\" >description</td>\n",
       "      <td id=\"T_f8809_row5_col1\" class=\"data row5 col1\" >4095</td>\n",
       "      <td id=\"T_f8809_row5_col2\" class=\"data row5 col2\" >0</td>\n",
       "      <td id=\"T_f8809_row5_col3\" class=\"data row5 col3\" >0.00%</td>\n",
       "      <td id=\"T_f8809_row5_col4\" class=\"data row5 col4\" >4087</td>\n",
       "      <td id=\"T_f8809_row5_col5\" class=\"data row5 col5\" >object</td>\n",
       "    </tr>\n",
       "    <tr>\n",
       "      <th id=\"T_f8809_level0_row6\" class=\"row_heading level0 row6\" >title</th>\n",
       "      <td id=\"T_f8809_row6_col0\" class=\"data row6 col0\" >title</td>\n",
       "      <td id=\"T_f8809_row6_col1\" class=\"data row6 col1\" >4095</td>\n",
       "      <td id=\"T_f8809_row6_col2\" class=\"data row6 col2\" >0</td>\n",
       "      <td id=\"T_f8809_row6_col3\" class=\"data row6 col3\" >0.00%</td>\n",
       "      <td id=\"T_f8809_row6_col4\" class=\"data row6 col4\" >4087</td>\n",
       "      <td id=\"T_f8809_row6_col5\" class=\"data row6 col5\" >object</td>\n",
       "    </tr>\n",
       "    <tr>\n",
       "      <th id=\"T_f8809_level0_row7\" class=\"row_heading level0 row7\" >recorded_date</th>\n",
       "      <td id=\"T_f8809_row7_col0\" class=\"data row7 col0\" >recorded_date</td>\n",
       "      <td id=\"T_f8809_row7_col1\" class=\"data row7 col1\" >4095</td>\n",
       "      <td id=\"T_f8809_row7_col2\" class=\"data row7 col2\" >0</td>\n",
       "      <td id=\"T_f8809_row7_col3\" class=\"data row7 col3\" >0.00%</td>\n",
       "      <td id=\"T_f8809_row7_col4\" class=\"data row7 col4\" >1378</td>\n",
       "      <td id=\"T_f8809_row7_col5\" class=\"data row7 col5\" >object</td>\n",
       "    </tr>\n",
       "    <tr>\n",
       "      <th id=\"T_f8809_level0_row8\" class=\"row_heading level0 row8\" >views</th>\n",
       "      <td id=\"T_f8809_row8_col0\" class=\"data row8 col0\" >views</td>\n",
       "      <td id=\"T_f8809_row8_col1\" class=\"data row8 col1\" >4095</td>\n",
       "      <td id=\"T_f8809_row8_col2\" class=\"data row8 col2\" >0</td>\n",
       "      <td id=\"T_f8809_row8_col3\" class=\"data row8 col3\" >0.00%</td>\n",
       "      <td id=\"T_f8809_row8_col4\" class=\"data row8 col4\" >4092</td>\n",
       "      <td id=\"T_f8809_row8_col5\" class=\"data row8 col5\" >int64</td>\n",
       "    </tr>\n",
       "    <tr>\n",
       "      <th id=\"T_f8809_level0_row9\" class=\"row_heading level0 row9\" >duration</th>\n",
       "      <td id=\"T_f8809_row9_col0\" class=\"data row9 col0\" >duration</td>\n",
       "      <td id=\"T_f8809_row9_col1\" class=\"data row9 col1\" >4095</td>\n",
       "      <td id=\"T_f8809_row9_col2\" class=\"data row9 col2\" >0</td>\n",
       "      <td id=\"T_f8809_row9_col3\" class=\"data row9 col3\" >0.00%</td>\n",
       "      <td id=\"T_f8809_row9_col4\" class=\"data row9 col4\" >1196</td>\n",
       "      <td id=\"T_f8809_row9_col5\" class=\"data row9 col5\" >int64</td>\n",
       "    </tr>\n",
       "    <tr>\n",
       "      <th id=\"T_f8809_level0_row10\" class=\"row_heading level0 row10\" >url</th>\n",
       "      <td id=\"T_f8809_row10_col0\" class=\"data row10 col0\" >url</td>\n",
       "      <td id=\"T_f8809_row10_col1\" class=\"data row10 col1\" >4095</td>\n",
       "      <td id=\"T_f8809_row10_col2\" class=\"data row10 col2\" >0</td>\n",
       "      <td id=\"T_f8809_row10_col3\" class=\"data row10 col3\" >0.00%</td>\n",
       "      <td id=\"T_f8809_row10_col4\" class=\"data row10 col4\" >4095</td>\n",
       "      <td id=\"T_f8809_row10_col5\" class=\"data row10 col5\" >object</td>\n",
       "    </tr>\n",
       "    <tr>\n",
       "      <th id=\"T_f8809_level0_row11\" class=\"row_heading level0 row11\" >tags</th>\n",
       "      <td id=\"T_f8809_row11_col0\" class=\"data row11 col0\" >tags</td>\n",
       "      <td id=\"T_f8809_row11_col1\" class=\"data row11 col1\" >4095</td>\n",
       "      <td id=\"T_f8809_row11_col2\" class=\"data row11 col2\" >0</td>\n",
       "      <td id=\"T_f8809_row11_col3\" class=\"data row11 col3\" >0.00%</td>\n",
       "      <td id=\"T_f8809_row11_col4\" class=\"data row11 col4\" >4060</td>\n",
       "      <td id=\"T_f8809_row11_col5\" class=\"data row11 col5\" >object</td>\n",
       "    </tr>\n",
       "    <tr>\n",
       "      <th id=\"T_f8809_level0_row12\" class=\"row_heading level0 row12\" >completeness_score</th>\n",
       "      <td id=\"T_f8809_row12_col0\" class=\"data row12 col0\" >completeness_score</td>\n",
       "      <td id=\"T_f8809_row12_col1\" class=\"data row12 col1\" >4095</td>\n",
       "      <td id=\"T_f8809_row12_col2\" class=\"data row12 col2\" >0</td>\n",
       "      <td id=\"T_f8809_row12_col3\" class=\"data row12 col3\" >0.00%</td>\n",
       "      <td id=\"T_f8809_row12_col4\" class=\"data row12 col4\" >1</td>\n",
       "      <td id=\"T_f8809_row12_col5\" class=\"data row12 col5\" >float64</td>\n",
       "    </tr>\n",
       "    <tr>\n",
       "      <th id=\"T_f8809_level0_row13\" class=\"row_heading level0 row13\" >transcript_clean</th>\n",
       "      <td id=\"T_f8809_row13_col0\" class=\"data row13 col0\" >transcript_clean</td>\n",
       "      <td id=\"T_f8809_row13_col1\" class=\"data row13 col1\" >4095</td>\n",
       "      <td id=\"T_f8809_row13_col2\" class=\"data row13 col2\" >0</td>\n",
       "      <td id=\"T_f8809_row13_col3\" class=\"data row13 col3\" >0.00%</td>\n",
       "      <td id=\"T_f8809_row13_col4\" class=\"data row13 col4\" >4082</td>\n",
       "      <td id=\"T_f8809_row13_col5\" class=\"data row13 col5\" >object</td>\n",
       "    </tr>\n",
       "  </tbody>\n",
       "</table>\n"
      ],
      "text/plain": [
       "<pandas.io.formats.style.Styler at 0x16374c8c0>"
      ]
     },
     "execution_count": 48,
     "metadata": {},
     "output_type": "execute_result"
    }
   ],
   "source": [
    "# Missing & Type Overview\n",
    "summary_df = pd.DataFrame({\n",
    "    \"Column\": df.columns,\n",
    "    \"Non-Null Count\": df.notnull().sum(),\n",
    "    \"Missing Count\": df.isnull().sum(),\n",
    "    \"Missing %\": df.isnull().mean() * 100,\n",
    "    \"Unique Values\": df.nunique(),\n",
    "    \"Data Type\": df.dtypes.values\n",
    "}).sort_values(\"Missing %\", ascending=False)\n",
    "\n",
    "summary_df.style.bar(subset=[\"Missing %\"], color='lightcoral').format({\"Missing %\": \"{:.2f}%\"})\n"
   ]
  },
  {
   "cell_type": "markdown",
   "id": "6f056568-135e-4616-b21e-026c11f3708c",
   "metadata": {},
   "source": [
    "### Column Quality Overview\n",
    "\n",
    "All 14 columns (including `transcript_clean`) are fully populated — no missing values were found.\n",
    "\n",
    "Key observations:\n",
    "- `views` and `duration` are numeric with high cardinality — ideal for regression or correlation analysis\n",
    "- Categorical fields like `speaker`, `title`, and `event` show strong diversity:\n",
    "  - 3,377 unique speakers\n",
    "  - 471 unique events\n",
    "  - 4,060 unique tag sets\n",
    "- `transcript` and `description` are nearly unique, which is appropriate for content-based modeling\n",
    "- `completeness_score` is always 100%, confirming that earlier cleaning was successful\n",
    "\n",
    "These columns are well-suited for NLP processing and supervised learning tasks.\n"
   ]
  },
  {
   "cell_type": "markdown",
   "id": "81ce7c0e-33ad-49bd-9cc5-2dea290b55e6",
   "metadata": {},
   "source": [
    "## Transcript Preprocessing\n",
    "\n",
    "We clean the `transcript` column to prepare it for feature extraction. This includes:\n",
    "\n",
    "- Lowercasing all text\n",
    "- Removing punctuation\n",
    "- Removing special bracketed markers like `[Laughter]`, `[Music]`\n"
   ]
  },
  {
   "cell_type": "code",
   "execution_count": 52,
   "id": "0fd00af7-83ed-4a19-961e-7735f0f8222b",
   "metadata": {},
   "outputs": [],
   "source": [
    "# Normalize the Transcript Text\n",
    "\n",
    "def clean_text(text):\n",
    "    if pd.isnull(text):\n",
    "        return \"\"\n",
    "    text = text.lower()\n",
    "    text = re.sub(r\"\\[.*?\\]\", \"\", text)  # remove things like [Laughter]\n",
    "    text = re.sub(r\"\\s+\", \" \", text)     # remove extra whitespace\n",
    "    text = text.translate(str.maketrans(\"\", \"\", string.punctuation))  # remove punctuation\n",
    "    return text.strip()\n",
    "\n",
    "# Apply the cleaning function\n",
    "df[\"transcript_clean\"] = df[\"transcript\"].apply(clean_text)"
   ]
  },
  {
   "cell_type": "code",
   "execution_count": 54,
   "id": "d9babc13-8f8e-456b-a8ad-5f7fcf2f1680",
   "metadata": {},
   "outputs": [
    {
     "data": {
      "text/html": [
       "<div>\n",
       "<style scoped>\n",
       "    .dataframe tbody tr th:only-of-type {\n",
       "        vertical-align: middle;\n",
       "    }\n",
       "\n",
       "    .dataframe tbody tr th {\n",
       "        vertical-align: top;\n",
       "    }\n",
       "\n",
       "    .dataframe thead th {\n",
       "        text-align: right;\n",
       "    }\n",
       "</style>\n",
       "<table border=\"1\" class=\"dataframe\">\n",
       "  <thead>\n",
       "    <tr style=\"text-align: right;\">\n",
       "      <th></th>\n",
       "      <th>transcript</th>\n",
       "      <th>transcript_clean</th>\n",
       "    </tr>\n",
       "  </thead>\n",
       "  <tbody>\n",
       "    <tr>\n",
       "      <th>1298</th>\n",
       "      <td>Imagine that you invented a device that can re...</td>\n",
       "      <td>imagine that you invented a device that can re...</td>\n",
       "    </tr>\n",
       "    <tr>\n",
       "      <th>2711</th>\n",
       "      <td>Nicolas Steno is rarely heard of outside Intro...</td>\n",
       "      <td>nicolas steno is rarely heard of outside intro...</td>\n",
       "    </tr>\n",
       "    <tr>\n",
       "      <th>3543</th>\n",
       "      <td>During World War I, one of the horrors of tren...</td>\n",
       "      <td>during world war i one of the horrors of trenc...</td>\n",
       "    </tr>\n",
       "  </tbody>\n",
       "</table>\n",
       "</div>"
      ],
      "text/plain": [
       "                                             transcript  \\\n",
       "1298  Imagine that you invented a device that can re...   \n",
       "2711  Nicolas Steno is rarely heard of outside Intro...   \n",
       "3543  During World War I, one of the horrors of tren...   \n",
       "\n",
       "                                       transcript_clean  \n",
       "1298  imagine that you invented a device that can re...  \n",
       "2711  nicolas steno is rarely heard of outside intro...  \n",
       "3543  during world war i one of the horrors of trenc...  "
      ]
     },
     "execution_count": 54,
     "metadata": {},
     "output_type": "execute_result"
    }
   ],
   "source": [
    "# confirm with random rows\n",
    "df[[\"transcript\", \"transcript_clean\"]].sample(3, random_state=42)"
   ]
  },
  {
   "cell_type": "code",
   "execution_count": 56,
   "id": "bbfe1cf3-0c8c-4021-9fac-8a1b2ef21663",
   "metadata": {},
   "outputs": [
    {
     "data": {
      "text/plain": [
       "4095"
      ]
     },
     "execution_count": 56,
     "metadata": {},
     "output_type": "execute_result"
    }
   ],
   "source": [
    "# how many were modified\n",
    "(df[\"transcript\"] != df[\"transcript_clean\"]).sum()"
   ]
  },
  {
   "cell_type": "markdown",
   "id": "2b8791e2-7a96-4b59-a7e1-b9192ab1224c",
   "metadata": {},
   "source": [
    "## Basic Linguistic Feature Extraction\n",
    "\n",
    "We now derive structural metrics from the cleaned transcript:\n",
    "- **Word count** — total words per talk\n",
    "- **Character count** — total characters per talk\n",
    "- **Sentence count** — number of sentences (based on original, not cleaned text)\n"
   ]
  },
  {
   "cell_type": "code",
   "execution_count": 60,
   "id": "637f5774-b1f4-448e-9bc2-8a1c88658bec",
   "metadata": {},
   "outputs": [
    {
     "name": "stderr",
     "output_type": "stream",
     "text": [
      "[nltk_data] Downloading package punkt to /Users/favrholdt/nltk_data...\n",
      "[nltk_data]   Package punkt is already up-to-date!\n"
     ]
    }
   ],
   "source": [
    "# Word and character count from cleaned transcript\n",
    "df[\"word_count\"] = df[\"transcript_clean\"].apply(lambda x: len(x.split()))\n",
    "df[\"char_count\"] = df[\"transcript_clean\"].apply(len)\n",
    "\n",
    "# Sentence count from original transcript using NLTK\n",
    "import nltk\n",
    "nltk.download(\"punkt\")\n",
    "from nltk.tokenize import sent_tokenize\n",
    "\n",
    "df[\"sentence_count\"] = df[\"transcript\"].apply(lambda x: len(sent_tokenize(x)) if pd.notnull(x) else 0)\n"
   ]
  },
  {
   "cell_type": "markdown",
   "id": "f24a9ed1-530e-4fd5-b29b-7d36dd89273a",
   "metadata": {},
   "source": [
    "### Review the Distribution of These Features"
   ]
  },
  {
   "cell_type": "code",
   "execution_count": 63,
   "id": "77f1e586-adae-45ba-bf35-580f41a69389",
   "metadata": {
    "scrolled": true
   },
   "outputs": [
    {
     "data": {
      "text/html": [
       "<div>\n",
       "<style scoped>\n",
       "    .dataframe tbody tr th:only-of-type {\n",
       "        vertical-align: middle;\n",
       "    }\n",
       "\n",
       "    .dataframe tbody tr th {\n",
       "        vertical-align: top;\n",
       "    }\n",
       "\n",
       "    .dataframe thead th {\n",
       "        text-align: right;\n",
       "    }\n",
       "</style>\n",
       "<table border=\"1\" class=\"dataframe\">\n",
       "  <thead>\n",
       "    <tr style=\"text-align: right;\">\n",
       "      <th></th>\n",
       "      <th>word_count</th>\n",
       "      <th>char_count</th>\n",
       "      <th>sentence_count</th>\n",
       "    </tr>\n",
       "  </thead>\n",
       "  <tbody>\n",
       "    <tr>\n",
       "      <th>count</th>\n",
       "      <td>4095.00000</td>\n",
       "      <td>4095.000000</td>\n",
       "      <td>4095.000000</td>\n",
       "    </tr>\n",
       "    <tr>\n",
       "      <th>mean</th>\n",
       "      <td>1768.20464</td>\n",
       "      <td>9603.052015</td>\n",
       "      <td>96.541636</td>\n",
       "    </tr>\n",
       "    <tr>\n",
       "      <th>std</th>\n",
       "      <td>950.09473</td>\n",
       "      <td>5033.296723</td>\n",
       "      <td>57.628717</td>\n",
       "    </tr>\n",
       "    <tr>\n",
       "      <th>min</th>\n",
       "      <td>89.00000</td>\n",
       "      <td>474.000000</td>\n",
       "      <td>1.000000</td>\n",
       "    </tr>\n",
       "    <tr>\n",
       "      <th>25%</th>\n",
       "      <td>914.50000</td>\n",
       "      <td>4975.000000</td>\n",
       "      <td>49.000000</td>\n",
       "    </tr>\n",
       "    <tr>\n",
       "      <th>50%</th>\n",
       "      <td>1729.00000</td>\n",
       "      <td>9441.000000</td>\n",
       "      <td>89.000000</td>\n",
       "    </tr>\n",
       "    <tr>\n",
       "      <th>75%</th>\n",
       "      <td>2406.50000</td>\n",
       "      <td>13054.500000</td>\n",
       "      <td>129.000000</td>\n",
       "    </tr>\n",
       "    <tr>\n",
       "      <th>max</th>\n",
       "      <td>6059.00000</td>\n",
       "      <td>31877.000000</td>\n",
       "      <td>465.000000</td>\n",
       "    </tr>\n",
       "  </tbody>\n",
       "</table>\n",
       "</div>"
      ],
      "text/plain": [
       "       word_count    char_count  sentence_count\n",
       "count  4095.00000   4095.000000     4095.000000\n",
       "mean   1768.20464   9603.052015       96.541636\n",
       "std     950.09473   5033.296723       57.628717\n",
       "min      89.00000    474.000000        1.000000\n",
       "25%     914.50000   4975.000000       49.000000\n",
       "50%    1729.00000   9441.000000       89.000000\n",
       "75%    2406.50000  13054.500000      129.000000\n",
       "max    6059.00000  31877.000000      465.000000"
      ]
     },
     "execution_count": 63,
     "metadata": {},
     "output_type": "execute_result"
    }
   ],
   "source": [
    "df[[\"word_count\", \"char_count\", \"sentence_count\"]].describe()\n"
   ]
  },
  {
   "cell_type": "markdown",
   "id": "095394d7-90ac-4bbe-9582-02ec1b7d59d2",
   "metadata": {},
   "source": [
    "### Structural Summary\n",
    "\n",
    "- The average TED Talk in this dataset contains **~1,768 words** across **~97 sentences**\n",
    "- Sentence counts vary significantly, with some talks having over 400 — these may be long-form or split improperly\n",
    "- The shortest valid talks (89 words, 1 sentence) are retained but could be flagged in downstream modeling\n",
    "- These metrics will be useful for readability analysis and for modeling content complexity\n"
   ]
  },
  {
   "cell_type": "markdown",
   "id": "a72e62fd-c1bd-4ae4-b5c7-c14296ead3c3",
   "metadata": {},
   "source": [
    "### Interpretation of Structural Features\n",
    "\n",
    "| Feature         | Insights                                                                 |\n",
    "|-----------------|--------------------------------------------------------------------------|\n",
    "| `word_count`     | Avg: ~1,768 words per talk  <br> Shortest: 89 words  <br> Longest: 6,059 words  <br> Majority range: ~900–2,400 words (IQR)  <br> Reflects a typical TED Talk length of 5–18 minutes |\n",
    "| `char_count`     | Highly correlated with word count  <br> Avg: ~9,600 characters  <br> Upper bound over 31,000 → some very long talks  <br> Useful for modeling verbosity |\n",
    "| `sentence_count` | Avg: ~97 sentences per talk  <br> Range: 1 to 465  <br> Many talks fall between 49 and 129  <br> Gives a structural unit for sentence-level analysis |\n"
   ]
  },
  {
   "cell_type": "markdown",
   "id": "50e72cca-af27-44a0-9f98-983c169ab3ec",
   "metadata": {},
   "source": [
    "## Distribution of Structural Features\n",
    "\n",
    "We now visualize the distributions of:\n",
    "\n",
    "- Word count\n",
    "- Sentence count\n",
    "- Character count\n",
    "\n",
    "These plots help identify outliers, typical ranges, and whether data transformations might be needed for modeling (e.g., log scaling).\n"
   ]
  },
  {
   "cell_type": "code",
   "execution_count": 74,
   "id": "21612c73-31ac-4bb5-a770-02cb4aaa7e5b",
   "metadata": {
    "jp-MarkdownHeadingCollapsed": true,
    "scrolled": true
   },
   "outputs": [
    {
     "data": {
      "image/png": "[encoded data removed]",
      "text/plain": [
       "<Figure size 1800x500 with 3 Axes>"
      ]
     },
     "metadata": {},
     "output_type": "display_data"
    }
   ],
   "source": [
    "# Set up 3 histograms side-by-side\n",
    "fig, axes = plt.subplots(1, 3, figsize=(18, 5))\n",
    "\n",
    "sns.histplot(df[\"word_count\"], bins=50, ax=axes[0], color=\"cornflowerblue\")\n",
    "axes[0].set_title(\"Distribution of Word Count\")\n",
    "axes[0].set_xlabel(\"Words per Talk\")\n",
    "axes[0].set_ylabel(\"Frequency\")\n",
    "\n",
    "sns.histplot(df[\"sentence_count\"], bins=50, ax=axes[1], color=\"mediumseagreen\")\n",
    "axes[1].set_title(\"Distribution of Sentence Count\")\n",
    "axes[1].set_xlabel(\"Sentences per Talk\")\n",
    "\n",
    "sns.histplot(df[\"char_count\"], bins=50, ax=axes[2], color=\"salmon\")\n",
    "axes[2].set_title(\"Distribution of Character Count\")\n",
    "axes[2].set_xlabel(\"Characters per Talk\")\n",
    "\n",
    "plt.tight_layout()\n",
    "plt.savefig(\"../plots/structure_distributions.png\")\n",
    "plt.show()\n"
   ]
  },
  {
   "cell_type": "markdown",
   "id": "63100ee3-01c4-4abf-9068-45d643387307",
   "metadata": {},
   "source": [
    "### Structural Feature Distributions\n",
    "\n",
    "- **Word Count**: Most talks cluster between 800 and 2,500 words, with a spike around ~500–600 words. A few outliers exceed 4,000 words.\n",
    "- **Sentence Count**: Peaks around 80–120 sentences, with some very short talks (under 20) and long ones (300+).\n",
    "- **Character Count**: Closely mirrors word count distribution, peaking around 4,500–13,000 characters.\n",
    "\n",
    "These plots confirm that while most TED Talks follow a common structural range, there are notable outliers on both the short and long end that could impact modeling.\n"
   ]
  },
  {
   "cell_type": "markdown",
   "id": "cd61bf99-bc1c-4289-9f42-ff10267edd79",
   "metadata": {},
   "source": [
    "## Advanced Linguistic Feature Extraction\n",
    "\n",
    "We compute additional text-based features to better capture the style and structure of each talk:\n",
    "\n",
    "- **Average word length** — indicates vocabulary complexity\n",
    "- **Average sentence length** — words per sentence\n",
    "- **Lexical diversity** — proportion of unique words used\n"
   ]
  },
  {
   "cell_type": "code",
   "execution_count": 81,
   "id": "3d6e624c-223f-44ca-9b59-d6dc22304731",
   "metadata": {
    "jp-MarkdownHeadingCollapsed": true
   },
   "outputs": [],
   "source": [
    "# Avg word length (based on cleaned transcript)\n",
    "df[\"avg_word_length\"] = df[\"transcript_clean\"].apply(lambda x: np.mean([len(w) for w in x.split()]) if x else 0)\n",
    "\n",
    "# Avg sentence length (words per sentence)\n",
    "df[\"avg_sentence_length\"] = df.apply(\n",
    "    lambda row: row[\"word_count\"] / row[\"sentence_count\"] if row[\"sentence_count\"] > 0 else 0, axis=1\n",
    ")\n",
    "\n",
    "# Lexical diversity = unique words / total words\n",
    "df[\"lexical_diversity\"] = df[\"transcript_clean\"].apply(\n",
    "    lambda x: len(set(x.split())) / len(x.split()) if x and len(x.split()) > 0 else 0\n",
    ")"
   ]
  },
  {
   "cell_type": "code",
   "execution_count": 83,
   "id": "f4e22696-4223-45e9-91cc-90ff9de643be",
   "metadata": {
    "scrolled": true
   },
   "outputs": [
    {
     "data": {
      "text/html": [
       "<div>\n",
       "<style scoped>\n",
       "    .dataframe tbody tr th:only-of-type {\n",
       "        vertical-align: middle;\n",
       "    }\n",
       "\n",
       "    .dataframe tbody tr th {\n",
       "        vertical-align: top;\n",
       "    }\n",
       "\n",
       "    .dataframe thead th {\n",
       "        text-align: right;\n",
       "    }\n",
       "</style>\n",
       "<table border=\"1\" class=\"dataframe\">\n",
       "  <thead>\n",
       "    <tr style=\"text-align: right;\">\n",
       "      <th></th>\n",
       "      <th>avg_word_length</th>\n",
       "      <th>avg_sentence_length</th>\n",
       "      <th>lexical_diversity</th>\n",
       "    </tr>\n",
       "  </thead>\n",
       "  <tbody>\n",
       "    <tr>\n",
       "      <th>count</th>\n",
       "      <td>4095.000000</td>\n",
       "      <td>4095.000000</td>\n",
       "      <td>4095.000000</td>\n",
       "    </tr>\n",
       "    <tr>\n",
       "      <th>mean</th>\n",
       "      <td>4.482151</td>\n",
       "      <td>20.022403</td>\n",
       "      <td>0.363028</td>\n",
       "    </tr>\n",
       "    <tr>\n",
       "      <th>std</th>\n",
       "      <td>0.301962</td>\n",
       "      <td>14.634656</td>\n",
       "      <td>0.090531</td>\n",
       "    </tr>\n",
       "    <tr>\n",
       "      <th>min</th>\n",
       "      <td>3.069182</td>\n",
       "      <td>6.253333</td>\n",
       "      <td>0.172473</td>\n",
       "    </tr>\n",
       "    <tr>\n",
       "      <th>25%</th>\n",
       "      <td>4.284521</td>\n",
       "      <td>16.128054</td>\n",
       "      <td>0.294706</td>\n",
       "    </tr>\n",
       "    <tr>\n",
       "      <th>50%</th>\n",
       "      <td>4.448512</td>\n",
       "      <td>18.888060</td>\n",
       "      <td>0.345655</td>\n",
       "    </tr>\n",
       "    <tr>\n",
       "      <th>75%</th>\n",
       "      <td>4.631012</td>\n",
       "      <td>22.057479</td>\n",
       "      <td>0.416489</td>\n",
       "    </tr>\n",
       "    <tr>\n",
       "      <th>max</th>\n",
       "      <td>6.348416</td>\n",
       "      <td>586.000000</td>\n",
       "      <td>0.811881</td>\n",
       "    </tr>\n",
       "  </tbody>\n",
       "</table>\n",
       "</div>"
      ],
      "text/plain": [
       "       avg_word_length  avg_sentence_length  lexical_diversity\n",
       "count      4095.000000          4095.000000        4095.000000\n",
       "mean          4.482151            20.022403           0.363028\n",
       "std           0.301962            14.634656           0.090531\n",
       "min           3.069182             6.253333           0.172473\n",
       "25%           4.284521            16.128054           0.294706\n",
       "50%           4.448512            18.888060           0.345655\n",
       "75%           4.631012            22.057479           0.416489\n",
       "max           6.348416           586.000000           0.811881"
      ]
     },
     "execution_count": 83,
     "metadata": {},
     "output_type": "execute_result"
    }
   ],
   "source": [
    "df[[\"avg_word_length\", \"avg_sentence_length\", \"lexical_diversity\"]].describe()"
   ]
  },
  {
   "cell_type": "code",
   "execution_count": 87,
   "id": "f47e10a1-cb0a-4b1a-9791-13ee5d7657cb",
   "metadata": {},
   "outputs": [
    {
     "data": {
      "text/html": [
       "<div>\n",
       "<style scoped>\n",
       "    .dataframe tbody tr th:only-of-type {\n",
       "        vertical-align: middle;\n",
       "    }\n",
       "\n",
       "    .dataframe tbody tr th {\n",
       "        vertical-align: top;\n",
       "    }\n",
       "\n",
       "    .dataframe thead th {\n",
       "        text-align: right;\n",
       "    }\n",
       "</style>\n",
       "<table border=\"1\" class=\"dataframe\">\n",
       "  <thead>\n",
       "    <tr style=\"text-align: right;\">\n",
       "      <th></th>\n",
       "      <th>transcript_clean</th>\n",
       "      <th>avg_word_length</th>\n",
       "      <th>avg_sentence_length</th>\n",
       "      <th>lexical_diversity</th>\n",
       "    </tr>\n",
       "  </thead>\n",
       "  <tbody>\n",
       "    <tr>\n",
       "      <th>0</th>\n",
       "      <td>what i am always thinking about is what this s...</td>\n",
       "      <td>3.988685</td>\n",
       "      <td>16.943005</td>\n",
       "      <td>0.262997</td>\n",
       "    </tr>\n",
       "    <tr>\n",
       "      <th>1</th>\n",
       "      <td>you might be wondering why im wearing sunglass...</td>\n",
       "      <td>4.448681</td>\n",
       "      <td>15.943182</td>\n",
       "      <td>0.282609</td>\n",
       "    </tr>\n",
       "    <tr>\n",
       "      <th>2</th>\n",
       "      <td>im going to talk about compassion and the gold...</td>\n",
       "      <td>4.505267</td>\n",
       "      <td>21.507812</td>\n",
       "      <td>0.250636</td>\n",
       "    </tr>\n",
       "    <tr>\n",
       "      <th>3</th>\n",
       "      <td>what id like you to do is just really quickly ...</td>\n",
       "      <td>4.240342</td>\n",
       "      <td>20.744681</td>\n",
       "      <td>0.265299</td>\n",
       "    </tr>\n",
       "    <tr>\n",
       "      <th>4</th>\n",
       "      <td>whats happening in genomics and how this revol...</td>\n",
       "      <td>4.319369</td>\n",
       "      <td>19.963636</td>\n",
       "      <td>0.251973</td>\n",
       "    </tr>\n",
       "  </tbody>\n",
       "</table>\n",
       "</div>"
      ],
      "text/plain": [
       "                                    transcript_clean  avg_word_length  \\\n",
       "0  what i am always thinking about is what this s...         3.988685   \n",
       "1  you might be wondering why im wearing sunglass...         4.448681   \n",
       "2  im going to talk about compassion and the gold...         4.505267   \n",
       "3  what id like you to do is just really quickly ...         4.240342   \n",
       "4  whats happening in genomics and how this revol...         4.319369   \n",
       "\n",
       "   avg_sentence_length  lexical_diversity  \n",
       "0            16.943005           0.262997  \n",
       "1            15.943182           0.282609  \n",
       "2            21.507812           0.250636  \n",
       "3            20.744681           0.265299  \n",
       "4            19.963636           0.251973  "
      ]
     },
     "execution_count": 87,
     "metadata": {},
     "output_type": "execute_result"
    }
   ],
   "source": [
    "df[[\"transcript_clean\", \"avg_word_length\", \"avg_sentence_length\", \"lexical_diversity\"]].head()"
   ]
  },
  {
   "cell_type": "markdown",
   "id": "98a85bc6-5fe1-414d-bdc6-f62e29e12cac",
   "metadata": {},
   "source": [
    "### Advanced Linguistic Feature Insights\n",
    "\n",
    "- **Average Word Length**\n",
    "  - Mean: ~4.48 characters per word\n",
    "  - Range: 3.07 to 6.35\n",
    "  - Most talks use relatively short, accessible words (good for general audiences)\n",
    "\n",
    "- **Average Sentence Length (words per sentence)**\n",
    "  - Mean: ~20 words per sentence\n",
    "  - Range: 6 to 586\n",
    "  - A few outliers use very long sentences; most are in the 16–22 word range\n",
    "\n",
    "- **Lexical Diversity (unique words / total words)**\n",
    "  - Mean: ~0.36\n",
    "  - Indicates that, on average, about 36% of the words in a talk are unique\n",
    "  - Range from 0.17 to 0.81 — high variation across speakers and styles\n",
    "\n",
    "These features will help the model distinguish between simple and complex speech patterns, as well as between repetitive and diverse vocabularies.\n"
   ]
  },
  {
   "cell_type": "markdown",
   "id": "33a3d6b7-94ac-477c-90e1-eb1edd99b967",
   "metadata": {},
   "source": [
    "## Visualization of Advanced Linguistic Features\n",
    "\n",
    "We now plot the distributions of:\n",
    "\n",
    "- Average word length\n",
    "- Average sentence length\n",
    "- Lexical diversity\n",
    "\n",
    "Then, we explore relationships between these features using scatter plots.\n"
   ]
  },
  {
   "cell_type": "code",
   "execution_count": 92,
   "id": "d2b1baca-8516-45e9-9718-78d78a455483",
   "metadata": {},
   "outputs": [
    {
     "data": {
      "image/png": "[encoded data removed]",
      "text/plain": [
       "<Figure size 1800x500 with 3 Axes>"
      ]
     },
     "metadata": {},
     "output_type": "display_data"
    }
   ],
   "source": [
    "# Histograms of advanced linguistic features\n",
    "fig, axes = plt.subplots(1, 3, figsize=(18, 5))\n",
    "\n",
    "sns.histplot(df[\"avg_word_length\"], bins=40, ax=axes[0], color=\"steelblue\")\n",
    "axes[0].set_title(\"Average Word Length\")\n",
    "axes[0].set_xlabel(\"Characters per Word\")\n",
    "\n",
    "sns.histplot(df[\"avg_sentence_length\"], bins=40, ax=axes[1], color=\"seagreen\")\n",
    "axes[1].set_title(\"Average Sentence Length\")\n",
    "axes[1].set_xlabel(\"Words per Sentence\")\n",
    "\n",
    "sns.histplot(df[\"lexical_diversity\"], bins=40, ax=axes[2], color=\"orchid\")\n",
    "axes[2].set_title(\"Lexical Diversity\")\n",
    "axes[2].set_xlabel(\"Unique Words / Total Words\")\n",
    "\n",
    "plt.tight_layout()\n",
    "plt.savefig(\"../plots/linguistic_feature_distributions.png\")\n",
    "plt.show()\n"
   ]
  },
  {
   "cell_type": "markdown",
   "id": "c956f40b-23e7-41fa-96cf-788705055119",
   "metadata": {},
   "source": [
    "### Distribution Insights (Advanced Linguistic Features)\n",
    "\n",
    "- **Average Word Length**: Most talks fall between 4.0 and 4.8 characters per word, indicating generally accessible vocabulary.\n",
    "- **Average Sentence Length**: Heavily skewed right, with the majority of talks averaging 15–25 words per sentence. A few outliers exceed 100+ words, which may indicate transcription artifacts or extreme verbosity.\n",
    "- **Lexical Diversity**: Most values fall between 0.3 and 0.45, with a long tail toward both lower and higher diversity. Talks with lower values likely repeat terminology or use simpler language.\n"
   ]
  },
  {
   "cell_type": "code",
   "execution_count": 94,
   "id": "8345b7ab-b1e1-4a28-a5f2-48123200774d",
   "metadata": {},
   "outputs": [
    {
     "data": {
      "image/png": "[encoded data removed]",
      "text/plain": [
       "<Figure size 1400x600 with 2 Axes>"
      ]
     },
     "metadata": {},
     "output_type": "display_data"
    }
   ],
   "source": [
    "# Scatter plots to show relationships between features\n",
    "fig, axes = plt.subplots(1, 2, figsize=(14, 6))\n",
    "\n",
    "# Lexical Diversity vs. Average Sentence Length\n",
    "sns.scatterplot(\n",
    "    data=df, x=\"avg_sentence_length\", y=\"lexical_diversity\",\n",
    "    alpha=0.4, ax=axes[0], color=\"darkorange\"\n",
    ")\n",
    "axes[0].set_title(\"Lexical Diversity vs. Sentence Length\")\n",
    "axes[0].set_xlabel(\"Average Sentence Length\")\n",
    "axes[0].set_ylabel(\"Lexical Diversity\")\n",
    "\n",
    "# Word Length vs. Lexical Diversity\n",
    "sns.scatterplot(\n",
    "    data=df, x=\"avg_word_length\", y=\"lexical_diversity\",\n",
    "    alpha=0.4, ax=axes[1], color=\"slateblue\"\n",
    ")\n",
    "axes[1].set_title(\"Lexical Diversity vs. Word Length\")\n",
    "axes[1].set_xlabel(\"Average Word Length\")\n",
    "axes[1].set_ylabel(\"Lexical Diversity\")\n",
    "\n",
    "plt.tight_layout()\n",
    "plt.savefig(\"../plots/linguistic_feature_scatterplots.png\")\n",
    "plt.show()\n"
   ]
  },
  {
   "cell_type": "markdown",
   "id": "37290ee5-dae2-45e2-970b-98bef101605a",
   "metadata": {},
   "source": [
    "### Scatter Plot Observations\n",
    "\n",
    "- **Lexical Diversity vs. Average Sentence Length**:\n",
    "  - Most talks are tightly clustered below 60 words per sentence\n",
    "  - No strong linear relationship, but extreme sentence lengths seem to reduce diversity\n",
    "\n",
    "- **Lexical Diversity vs. Word Length**:\n",
    "  - Moderate positive trend: talks with longer average words tend to use a more diverse vocabulary\n",
    "  - Suggests that lexical richness grows with more complex vocabulary\n",
    "\n",
    "These insights can inform feature selection for modeling and support hypotheses about what makes TED Talks more \"linguistically engaging.\"\n"
   ]
  },
  {
   "cell_type": "code",
   "execution_count": 101,
   "id": "5f01989b-1204-453a-9039-cbebf99d7206",
   "metadata": {},
   "outputs": [],
   "source": [
    "import textstat"
   ]
  },
  {
   "cell_type": "markdown",
   "id": "8b2a0ef8-1c5c-43b3-b04a-46a72a983c44",
   "metadata": {},
   "source": [
    "## Readability Metrics\n",
    "\n",
    "We now calculate two key readability scores:\n",
    "\n",
    "- **Flesch Reading Ease**: Higher scores = easier to read (scale: 0–100)\n",
    "- **Flesch-Kincaid Grade Level**: U.S. school grade level needed to comprehend (e.g., 8.0 = 8th grade)\n",
    "\n",
    "These metrics quantify how accessible the content is to general audiences.\n"
   ]
  },
  {
   "cell_type": "code",
   "execution_count": 105,
   "id": "e9993079-b0d3-4335-8c43-ac16df307e90",
   "metadata": {
    "jp-MarkdownHeadingCollapsed": true
   },
   "outputs": [],
   "source": [
    "# Calculate readability scores from original transcript\n",
    "df[\"flesch_reading_ease\"] = df[\"transcript\"].apply(lambda x: textstat.flesch_reading_ease(x))\n",
    "df[\"flesch_kincaid_grade\"] = df[\"transcript\"].apply(lambda x: textstat.flesch_kincaid_grade(x))"
   ]
  },
  {
   "cell_type": "code",
   "execution_count": 106,
   "id": "7771ecb1-e382-4e2f-9ffe-9edd10cc400e",
   "metadata": {},
   "outputs": [
    {
     "data": {
      "text/html": [
       "<div>\n",
       "<style scoped>\n",
       "    .dataframe tbody tr th:only-of-type {\n",
       "        vertical-align: middle;\n",
       "    }\n",
       "\n",
       "    .dataframe tbody tr th {\n",
       "        vertical-align: top;\n",
       "    }\n",
       "\n",
       "    .dataframe thead th {\n",
       "        text-align: right;\n",
       "    }\n",
       "</style>\n",
       "<table border=\"1\" class=\"dataframe\">\n",
       "  <thead>\n",
       "    <tr style=\"text-align: right;\">\n",
       "      <th></th>\n",
       "      <th>flesch_reading_ease</th>\n",
       "      <th>flesch_kincaid_grade</th>\n",
       "    </tr>\n",
       "  </thead>\n",
       "  <tbody>\n",
       "    <tr>\n",
       "      <th>count</th>\n",
       "      <td>4095.000000</td>\n",
       "      <td>4095.000000</td>\n",
       "    </tr>\n",
       "    <tr>\n",
       "      <th>mean</th>\n",
       "      <td>64.553421</td>\n",
       "      <td>8.508522</td>\n",
       "    </tr>\n",
       "    <tr>\n",
       "      <th>std</th>\n",
       "      <td>12.438547</td>\n",
       "      <td>3.567196</td>\n",
       "    </tr>\n",
       "    <tr>\n",
       "      <th>min</th>\n",
       "      <td>-344.677000</td>\n",
       "      <td>1.210098</td>\n",
       "    </tr>\n",
       "    <tr>\n",
       "      <th>25%</th>\n",
       "      <td>58.894661</td>\n",
       "      <td>7.005819</td>\n",
       "    </tr>\n",
       "    <tr>\n",
       "      <th>50%</th>\n",
       "      <td>65.503122</td>\n",
       "      <td>8.271385</td>\n",
       "    </tr>\n",
       "    <tr>\n",
       "      <th>75%</th>\n",
       "      <td>71.552621</td>\n",
       "      <td>9.653528</td>\n",
       "    </tr>\n",
       "    <tr>\n",
       "      <th>max</th>\n",
       "      <td>99.844052</td>\n",
       "      <td>160.706000</td>\n",
       "    </tr>\n",
       "  </tbody>\n",
       "</table>\n",
       "</div>"
      ],
      "text/plain": [
       "       flesch_reading_ease  flesch_kincaid_grade\n",
       "count          4095.000000           4095.000000\n",
       "mean             64.553421              8.508522\n",
       "std              12.438547              3.567196\n",
       "min            -344.677000              1.210098\n",
       "25%              58.894661              7.005819\n",
       "50%              65.503122              8.271385\n",
       "75%              71.552621              9.653528\n",
       "max              99.844052            160.706000"
      ]
     },
     "execution_count": 106,
     "metadata": {},
     "output_type": "execute_result"
    }
   ],
   "source": [
    "df[[\"flesch_reading_ease\", \"flesch_kincaid_grade\"]].describe()"
   ]
  },
  {
   "cell_type": "markdown",
   "id": "c9b57ff3-8f63-4bb2-b25d-60b0d1254c39",
   "metadata": {},
   "source": [
    "### Readability Score Summary\n",
    "\n",
    "- **Flesch Reading Ease**\n",
    "  - Mean: 64.6 → Considered readable for most audiences\n",
    "  - 25th to 75th percentile: ~59 to 72\n",
    "  - Talks scoring below 50 may be more complex or academic\n",
    "\n",
    "- **Flesch-Kincaid Grade**\n",
    "  - Median grade level: ~8.3\n",
    "  - Range: 1.2 to 160 → extremely high values are likely artifacts (e.g., long unpunctuated sentences)\n",
    "  - Most TED Talks fall within a 7th–10th grade readability range\n",
    "\n",
    "These metrics help quantify language accessibility — critical for feedback and model explainability in the Streamlit app.\n"
   ]
  },
  {
   "cell_type": "code",
   "execution_count": 110,
   "id": "01b04d44-43b9-4946-a66f-55d3f44091ce",
   "metadata": {},
   "outputs": [
    {
     "name": "stdout",
     "output_type": "stream",
     "text": [
      "Preprocessed data saved to: ../data/preprocessed_data.csv\n"
     ]
    }
   ],
   "source": [
    "# Save processed dataset to disk\n",
    "df.to_csv(\"../data/preprocessed_data.csv\", index=False)\n",
    "print(\"Preprocessed data saved to: ../data/preprocessed_data.csv\")\n"
   ]
  },
  {
   "cell_type": "code",
   "execution_count": 112,
   "id": "7f3f2acf-d94d-46eb-8d82-704c0dac7538",
   "metadata": {},
   "outputs": [
    {
     "data": {
      "application/javascript": [
       "IPython.notebook.save_checkpoint();"
      ],
      "text/plain": [
       "<IPython.core.display.Javascript object>"
      ]
     },
     "metadata": {},
     "output_type": "display_data"
    },
    {
     "name": "stdout",
     "output_type": "stream",
     "text": [
      "Notebook save triggered.\n",
      "Summary saved to: ../reports/03_data_loading_and_preprocessing_summary_2025-05-26_04-42-48.json\n"
     ]
    }
   ],
   "source": [
    "from utils.save_tools import save_notebook_and_summary\n",
    "\n",
    "save_notebook_and_summary(\n",
    "    notebook_name=\"03_data_loading_and_preprocessing\",\n",
    "    summary={\n",
    "        \"description\": \"Loaded cleaned TED dataset, applied text normalization, extracted structural and advanced linguistic features, computed readability scores, and saved preprocessed output.\",\n",
    "        \"records_processed\": int(df.shape[0]),\n",
    "        \"columns_added\": [\n",
    "            \"transcript_clean\",\n",
    "            \"word_count\", \"char_count\", \"sentence_count\",\n",
    "            \"avg_word_length\", \"avg_sentence_length\", \"lexical_diversity\",\n",
    "            \"flesch_reading_ease\", \"flesch_kincaid_grade\"\n",
    "        ],\n",
    "        \"output_file\": \"../data/preprocessed_data.csv\",\n",
    "        \"plots_generated\": [\n",
    "            \"../plots/structure_distributions.png\",\n",
    "            \"../plots/linguistic_feature_distributions.png\",\n",
    "            \"../plots/linguistic_feature_scatterplots.png\"\n",
    "        ]\n",
    "    }\n",
    ")\n"
   ]
  },
  {
   "cell_type": "markdown",
   "id": "8f9b084e-b87b-42d8-a9b4-97b9cc936580",
   "metadata": {},
   "source": [
    "------------------------"
   ]
  },
  {
   "cell_type": "code",
   "execution_count": null,
   "id": "df15b2ef-13bc-48d2-89ae-18736b461d86",
   "metadata": {},
   "outputs": [],
   "source": []
  },
  {
   "cell_type": "code",
   "execution_count": null,
   "id": "cf41aef3-5d4a-47ec-be77-e6effbc96eb0",
   "metadata": {},
   "outputs": [],
   "source": []
  },
  {
   "cell_type": "code",
   "execution_count": null,
   "id": "8f8e80bf-b035-4886-8dfb-8b5865493d10",
   "metadata": {},
   "outputs": [],
   "source": []
  },
  {
   "cell_type": "code",
   "execution_count": null,
   "id": "05d27238-2725-474d-96bb-477375360c53",
   "metadata": {},
   "outputs": [],
   "source": []
  },
  {
   "cell_type": "code",
   "execution_count": null,
   "id": "37a60023-eb20-4d19-aa61-ba2106fd6de5",
   "metadata": {},
   "outputs": [],
   "source": []
  },
  {
   "cell_type": "code",
   "execution_count": null,
   "id": "ad9364e1-7cd2-4b90-b61a-2219a9e77cd2",
   "metadata": {},
   "outputs": [],
   "source": []
  },
  {
   "cell_type": "code",
   "execution_count": null,
   "id": "a3d2d082-d7c4-4059-b798-d191c728959a",
   "metadata": {},
   "outputs": [],
   "source": []
  },
  {
   "cell_type": "code",
   "execution_count": null,
   "id": "820385ef-091f-48c3-b1e6-bda216455b0d",
   "metadata": {},
   "outputs": [],
   "source": []
  },
  {
   "cell_type": "code",
   "execution_count": null,
   "id": "455ac8e1-96a0-4f8f-8997-92bd6a7d3a2d",
   "metadata": {},
   "outputs": [],
   "source": []
  },
  {
   "cell_type": "code",
   "execution_count": null,
   "id": "6c25622b-b5d6-41a4-abf9-5858cd2818a0",
   "metadata": {},
   "outputs": [],
   "source": []
  },
  {
   "cell_type": "code",
   "execution_count": null,
   "id": "fb935dd8-f53e-4c33-beda-b48a6b02f1b5",
   "metadata": {},
   "outputs": [],
   "source": []
  },
  {
   "cell_type": "code",
   "execution_count": null,
   "id": "55eb09d0-2de6-4c0d-814c-78145b09333e",
   "metadata": {},
   "outputs": [],
   "source": []
  },
  {
   "cell_type": "code",
   "execution_count": null,
   "id": "9a7bb212-e1a7-4e38-a6bb-b82ba0cec7c1",
   "metadata": {},
   "outputs": [],
   "source": []
  },
  {
   "cell_type": "code",
   "execution_count": null,
   "id": "7b6d44d5-e818-4d25-9200-0021c6333586",
   "metadata": {},
   "outputs": [],
   "source": []
  },
  {
   "cell_type": "code",
   "execution_count": null,
   "id": "e3c8bd4e-6043-4aa1-a62f-852e51b38e68",
   "metadata": {},
   "outputs": [],
   "source": []
  },
  {
   "cell_type": "code",
   "execution_count": null,
   "id": "b82b4edf-3f59-4c89-82f9-7bed2b754dcd",
   "metadata": {},
   "outputs": [],
   "source": []
  },
  {
   "cell_type": "code",
   "execution_count": null,
   "id": "7d47a1ca-649b-4e90-85bf-73a9f373fbda",
   "metadata": {},
   "outputs": [],
   "source": []
  },
  {
   "cell_type": "code",
   "execution_count": null,
   "id": "b49edefb-16ff-45ee-8fed-dc7ee784e220",
   "metadata": {},
   "outputs": [],
   "source": []
  },
  {
   "cell_type": "code",
   "execution_count": null,
   "id": "d2ccafdc-c258-4631-83bb-2b8cb3dd65f0",
   "metadata": {},
   "outputs": [],
   "source": []
  },
  {
   "cell_type": "code",
   "execution_count": null,
   "id": "47bf50b6-2a4a-4b01-81e6-eaba9a915024",
   "metadata": {},
   "outputs": [],
   "source": []
  },
  {
   "cell_type": "code",
   "execution_count": null,
   "id": "b851a6cd-8158-4f85-8106-329da1a18868",
   "metadata": {},
   "outputs": [],
   "source": [
    "### Missing Values Summary\n",
    "\n",
    "This dataset has no missing values in any column. No imputation or filling is required."
   ]
  },
  {
   "cell_type": "code",
   "execution_count": null,
   "id": "ffa1f1b2-dd73-4198-a9e7-7d4610aa01a9",
   "metadata": {},
   "outputs": [],
   "source": [
    "### Advanced Cleaning with Stopword Removal and Lemmatization"
   ]
  },
  {
   "cell_type": "code",
   "execution_count": null,
   "id": "2f1a457e-3b95-4522-8d45-343ea8bfeee3",
   "metadata": {},
   "outputs": [],
   "source": [
    "# Stopword Removal + Lemmatization\n",
    "import nltk\n",
    "nltk.download('stopwords')\n",
    "nltk.download('wordnet')\n",
    "nltk.download('omw-1.4')\n",
    "from nltk.corpus import stopwords\n",
    "from nltk.stem import WordNetLemmatizer\n",
    "\n",
    "stop_words = set(stopwords.words('english'))\n",
    "lemmatizer = WordNetLemmatizer()\n",
    "\n",
    "def advanced_clean(text):\n",
    "    words = text.split()\n",
    "    words = [lemmatizer.lemmatize(w) for w in words if w not in stop_words]\n",
    "    return ' '.join(words)\n",
    "\n",
    "df[\"word_count_original\"] = df[\"transcript_clean\"].apply(lambda x: len(x.split()))\n",
    "df[\"transcript_clean\"] = df[\"transcript_clean\"].apply(advanced_clean)\n",
    "df[\"word_count\"] = df[\"transcript_clean\"].apply(lambda x: len(x.split()))\n"
   ]
  },
  {
   "cell_type": "code",
   "execution_count": null,
   "id": "284db213-d9dc-419e-8025-1519c9c0b054",
   "metadata": {},
   "outputs": [],
   "source": [
    "## 3. Extract Text Features"
   ]
  },
  {
   "cell_type": "code",
   "execution_count": null,
   "id": "69232333-f7ed-4234-95cd-623dc8631615",
   "metadata": {},
   "outputs": [],
   "source": [
    "# Character Count\n",
    "df[\"char_count\"] = df[\"transcript_clean\"].apply(len)\n"
   ]
  },
  {
   "cell_type": "code",
   "execution_count": null,
   "id": "d4b76c82-670b-436f-861f-ab429771fdd1",
   "metadata": {},
   "outputs": [],
   "source": [
    "#Sentence Count\n",
    "nltk.download(\"punkt\")\n",
    "from nltk.tokenize import sent_tokenize\n",
    "\n",
    "df[\"sentence_count\"] = df[\"transcript\"].apply(lambda x: len(sent_tokenize(x)) if pd.notnull(x) else 0)\n"
   ]
  },
  {
   "cell_type": "code",
   "execution_count": null,
   "id": "346d3bf1-abd8-4997-b713-47c75beed077",
   "metadata": {},
   "outputs": [],
   "source": [
    "## 4. Readability Metrics\n"
   ]
  },
  {
   "cell_type": "code",
   "execution_count": null,
   "id": "98cdd9f1-7cfb-4ac5-a16c-5a8058ce1deb",
   "metadata": {},
   "outputs": [],
   "source": [
    "#Readability Calculations\n",
    "df[\"avg_sentence_length\"] = df[\"word_count\"] / df[\"sentence_count\"].replace(0, np.nan)\n",
    "df[\"avg_word_length\"] = df[\"char_count\"] / df[\"word_count\"].replace(0, np.nan)\n",
    "df[\"flesch_score\"] = 206.835 - (1.015 * df[\"avg_sentence_length\"]) - (84.6 * df[\"avg_word_length\"])\n",
    "df[\"flesch_kincaid_grade\"] = (0.39 * df[\"avg_sentence_length\"]) + (11.8 * df[\"avg_word_length\"]) - 15.59\n"
   ]
  },
  {
   "cell_type": "code",
   "execution_count": null,
   "id": "e166c375-bd8f-47d6-b1a6-973bed0621ff",
   "metadata": {},
   "outputs": [],
   "source": [
    "## 5. Word Count Comparison Before vs. After Cleaning\n"
   ]
  },
  {
   "cell_type": "code",
   "execution_count": null,
   "id": "fbac6091-af65-4c1c-9d96-059b0bfdfed1",
   "metadata": {},
   "outputs": [],
   "source": [
    "# Word Count Comparison Plot\n",
    "plt.figure(figsize=(10, 5))\n",
    "sns.histplot(df[\"word_count_original\"], label=\"Original\", color=\"gray\", bins=50, kde=True)\n",
    "sns.histplot(df[\"word_count\"], label=\"After Lemmatization\", color=\"cornflowerblue\", bins=50, kde=True)\n",
    "plt.title(\"Transcript Word Count: Original vs. Cleaned\")\n",
    "plt.xlabel(\"Word Count\")\n",
    "plt.ylabel(\"Frequency\")\n",
    "plt.legend()\n",
    "plt.tight_layout()\n",
    "plt.savefig(\"../plots/wordcount_comparison.png\")\n",
    "plt.show()\n"
   ]
  },
  {
   "cell_type": "code",
   "execution_count": null,
   "id": "4556e209-e8d0-48dd-91f0-cff5e257cfd9",
   "metadata": {},
   "outputs": [],
   "source": [
    "## 6. Visualize Linguistic Distributions\n"
   ]
  },
  {
   "cell_type": "code",
   "execution_count": null,
   "id": "99f47b5b-0d07-4de2-8305-f86f5481673d",
   "metadata": {},
   "outputs": [],
   "source": [
    "# Histograms\n",
    "\n",
    "fig, axes = plt.subplots(2, 2, figsize=(12, 8))\n",
    "\n",
    "sns.histplot(df[\"sentence_count\"], bins=50, ax=axes[0, 0], color=\"skyblue\")\n",
    "axes[0, 0].set_title(\"Sentence Count\")\n",
    "\n",
    "sns.histplot(df[\"avg_sentence_length\"].dropna(), bins=50, ax=axes[0, 1], color=\"salmon\")\n",
    "axes[0, 1].set_title(\"Average Sentence Length\")\n",
    "\n",
    "sns.histplot(df[\"avg_word_length\"].dropna(), bins=50, ax=axes[1, 0], color=\"lightgreen\")\n",
    "axes[1, 0].set_title(\"Average Word Length\")\n",
    "\n",
    "sns.histplot(df[\"flesch_score\"].dropna(), bins=50, ax=axes[1, 1], color=\"orchid\")\n",
    "axes[1, 1].set_title(\"Flesch Reading Ease Score\")\n",
    "\n",
    "plt.tight_layout()\n",
    "plt.savefig(\"../plots/readability_distributions.png\")\n",
    "plt.show()\n"
   ]
  },
  {
   "cell_type": "code",
   "execution_count": null,
   "id": "432255ef-26dc-4a8d-b045-956bae0eeec8",
   "metadata": {},
   "outputs": [],
   "source": [
    "## 7. Correlation Between Linguistic Features\n"
   ]
  },
  {
   "cell_type": "code",
   "execution_count": null,
   "id": "eb1932e5-3db2-4feb-8394-0c9a86ca0f0d",
   "metadata": {},
   "outputs": [],
   "source": [
    "# Correlation Heatmap\n",
    "features_to_plot = [\n",
    "    \"word_count\", \"sentence_count\", \"char_count\",\n",
    "    \"avg_sentence_length\", \"avg_word_length\",\n",
    "    \"flesch_score\", \"flesch_kincaid_grade\"\n",
    "]\n",
    "\n",
    "plt.figure(figsize=(10, 6))\n",
    "sns.heatmap(df[features_to_plot].corr(), annot=True, cmap=\"coolwarm\", fmt=\".2f\")\n",
    "plt.title(\"Correlation of Linguistic Features\")\n",
    "plt.tight_layout()\n",
    "plt.savefig(\"../plots/linguistic_feature_correlation.png\")\n",
    "plt.show()\n"
   ]
  },
  {
   "cell_type": "code",
   "execution_count": null,
   "id": "d3ac44b5-3660-489f-8cec-8a6f3f378852",
   "metadata": {},
   "outputs": [],
   "source": [
    "## 8. Save Preprocessed Data\n"
   ]
  },
  {
   "cell_type": "code",
   "execution_count": null,
   "id": "ec70e1cd-d0c4-47da-b418-85a8ad5b1172",
   "metadata": {},
   "outputs": [],
   "source": [
    "output_path = \"../data/preprocessed_data.csv\"\n",
    "df.to_csv(output_path, index=False)\n",
    "print(f\"Preprocessed data saved to: {output_path}\")\n"
   ]
  },
  {
   "cell_type": "code",
   "execution_count": null,
   "id": "b8790cde-8ef5-4986-8a5a-c6371dce555d",
   "metadata": {},
   "outputs": [],
   "source": [
    "-----------------------"
   ]
  }
 ],
 "metadata": {
  "kernelspec": {
   "display_name": "Python [conda env:base] *",
   "language": "python",
   "name": "conda-base-py"
  },
  "language_info": {
   "codemirror_mode": {
    "name": "ipython",
    "version": 3
   },
   "file_extension": ".py",
   "mimetype": "text/x-python",
   "name": "python",
   "nbconvert_exporter": "python",
   "pygments_lexer": "ipython3",
   "version": "3.12.2"
  }
 },
 "nbformat": 4,
 "nbformat_minor": 5
}
