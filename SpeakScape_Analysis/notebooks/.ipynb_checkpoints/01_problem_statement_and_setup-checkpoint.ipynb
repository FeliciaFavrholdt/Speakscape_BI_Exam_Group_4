{
 "cells": [
  {
   "cell_type": "markdown",
   "id": "0ccae6e9-38b3-44b8-964c-11aef70b4e5e",
   "metadata": {
    "jp-MarkdownHeadingCollapsed": true
   },
   "source": [
    "\n",
    "## Group 4 – CPH Business Intelligence Exam Project 2025\n",
    "\n",
    "**Team Members:**\n",
    "- Alberte Mary Wahlstrøm Vallentin\n",
    "- Felicia Favrholdt\n",
    "- Fatima Majid Shamcizadh\n",
    "\n",
    "**GitHub Links:**\n",
    "- [Analysis 1](https://github.com/AlberteVallentin/SpeakScape)\n",
    "- [Analysis 2 & Streamlit App](https://github.com/FeliciaFavrholdt/Speakscape_BI_Exam_Group_4/tree/main)\n"
   ]
  },
  {
   "cell_type": "markdown",
   "id": "ff8101db-7d5b-44f2-8e0a-de84a3b7bd70",
   "metadata": {},
   "source": [
    "## Problem Statement\n",
    "\n",
    "How can SpeakScape provide actionable, data-driven feedback to users by analyzing their presentation text against TED Talk benchmarks to identify impactful linguistic patterns?\n"
   ]
  },
  {
   "cell_type": "markdown",
   "id": "41851d0d-6dd6-4aec-b5fd-0c596b691e70",
   "metadata": {},
   "source": [
    "## Motivation\n",
    "\n",
    "Effective public speaking plays a critical role in personal and professional success. However, most individuals lack access to high-quality, personalized feedback on their communication style.\n",
    "\n",
    "By leveraging text analytics and AI, SpeakScape aims to bridge this gap by learning from expertly crafted TED Talks and helping users enhance their own presentations.\n",
    "\n"
   ]
  },
  {
   "cell_type": "markdown",
   "id": "197b0ad8-220c-4011-9e87-98db7894e84c",
   "metadata": {},
   "source": [
    "## Project Goals\n",
    "\n",
    "- Identify linguistic patterns that correlate with high user engagement.\n",
    "- Train a classifier to distinguish TED-style speech from user submissions.\n",
    "- Generate actionable feedback to improve user presentations.\n",
    "\n",
    "## Hypotheses\n",
    "\n",
    "- Linguistic richness, clarity, and emotional appeal are more prevalent in TED Talks.\n",
    "- Machine learning can detect these patterns and predict presentation quality.\n",
    "\n"
   ]
  },
  {
   "cell_type": "markdown",
   "id": "290156f2-68f1-44ed-8d9f-1b21f41ee97f",
   "metadata": {},
   "source": [
    "## Impact and Beneficiaries\n",
    "\n",
    "SpeakScape can benefit:\n",
    "- Students and professionals preparing for talks.\n",
    "- Educators aiming to enhance oral communication curricula.\n",
    "- AI researchers exploring explainable NLP feedback mechanisms.\n",
    "\n",
    "The feedback engine promotes better presentation design and self-improvement.\n"
   ]
  },
  {
   "cell_type": "markdown",
   "id": "4ae52611-7d32-404c-a8d9-8689cf424d37",
   "metadata": {},
   "source": [
    "## Project Structure\n",
    "\n",
    "The project is implemented through six modular notebooks:\n",
    "\n",
    "1. **Problem Statement & Setup** – Define scope and prepare environment.\n",
    "2. **Data Loading & Preprocessing** – Clean and standardize raw input data.\n",
    "3. **Exploratory Data Analysis (EDA)** – Analyze and visualize textual patterns.\n",
    "4. **Feature Engineering** – Extract meaningful linguistic features.\n",
    "5. **Model Training & Evaluation** – Train models to classify TED-like content.\n",
    "6. **Results & Interpretation** – Analyze model insights and propose feedback.\n",
    "\n",
    "A Streamlit application will later provide an interactive interface for feedback.\n"
   ]
  },
  {
   "cell_type": "markdown",
   "id": "dba1092e-ce8c-4d6f-8d17-d6a89d3c481c",
   "metadata": {},
   "source": [
    "## Environment Setup\n",
    "\n",
    "We use standard Python libraries for data analysis, NLP, and machine learning. All paths are relative for reproducibility.\n"
   ]
  },
  {
   "cell_type": "markdown",
   "id": "032e7c2a-1452-4c22-a2b2-542168d3f837",
   "metadata": {},
   "source": [
    "# SpeakScape — Presentation Feedback Powered by TED Talks\n",
    "\n",
    "**Group 4 — CPH Business BI Exam Project 2025**  \n",
    "- Alberte Mary Wahlstrøm Vallentin — cph-av169@cphbusiness.dk  \n",
    "- Felicia Favrholdt — cph-ff62@cphbusiness.dk  \n",
    "- Fatima Majid Shamcizadh — cph-fs156@cphbusiness.dk\n",
    "\n",
    "## Project Title: SpeakScape\n",
    "\n",
    "## Problem Statement\n",
    "How can SpeakScape provide actionable, data-driven feedback to users by analyzing their presentation text against TED Talk benchmarks to identify impactful linguistic patterns?\n",
    "\n",
    "## Research Questions\n",
    "1. What specific linguistic features—such as sentence complexity, pronoun usage, and rhetorical devices—are most predictive of audience engagement in TED Talks?\n",
    "2. How can we effectively correlate these features with engagement metrics like view count?\n",
    "3. How can we use these insights to offer personalized feedback on user-submitted texts?\n"
   ]
  },
  {
   "cell_type": "markdown",
   "id": "3f4a9890-770b-4dca-9c83-8ccd35116ca5",
   "metadata": {},
   "source": [
    "## Project Scope and Impact\n",
    "\n",
    "This project analyzes TED Talk transcripts to learn what makes them effective. Using machine learning and text analytics, SpeakScape will:\n",
    "\n",
    "- Identify high-impact linguistic patterns\n",
    "- Benchmark user speeches against TED Talks\n",
    "- Offer tailored feedback to help users improve their communication\n",
    "\n",
    "## Expected Outcomes\n",
    "\n",
    "- A clean, annotated dataset combining TED_2017 and TED_2020\n",
    "- A trained machine learning model to predict TED-likeness\n",
    "- An interactive Streamlit app that gives linguistic feedback to users\n",
    "- Documentation of all steps to ensure full reproducibility\n"
   ]
  },
  {
   "cell_type": "code",
   "execution_count": 42,
   "id": "6e959fd3-b7d3-41bc-a5c5-b42a9b33b1c7",
   "metadata": {},
   "outputs": [
    {
     "name": "stdout",
     "output_type": "stream",
     "text": [
      "Environment setup complete.\n"
     ]
    }
   ],
   "source": [
    "# Import libraries\n",
    "import os\n",
    "import pandas as pd\n",
    "import numpy as np\n",
    "import matplotlib.pyplot as plt\n",
    "import seaborn as sns\n",
    "\n",
    "# Apply Seaborn styling (this sets both matplotlib and seaborn visuals)\n",
    "sns.set_theme(style=\"whitegrid\", palette=\"deep\")\n",
    "\n",
    "\n",
    "# Create directories for reproducibility\n",
    "folders = [\"../data\", \"../models\", \"../plots\", \"../reports\"]\n",
    "for folder in folders:\n",
    "    os.makedirs(folder, exist_ok=True)\n",
    "\n",
    "print(\"Environment setup complete.\")\n"
   ]
  },
  {
   "cell_type": "markdown",
   "id": "b8b77608-4f18-42d8-af1f-4389530c83f4",
   "metadata": {},
   "source": [
    "## Execution Plan: BI Sprints\n",
    "\n",
    "**Sprint 1: Problem Formulation**  \n",
    "Notebook: `01_problem_statement_and_setup.ipynb`  \n",
    "Focus: Define problem, goals, research questions, and project structure.  \n",
    "\n",
    "**Sprint 2: Data Collection & Cleaning**  \n",
    "Notebook: `02_data_loading_and_preprocessing.ipynb`  \n",
    "Focus: Load and clean TED datasets, recover transcripts, merge into a consistent schema.  \n",
    "\n",
    "**Sprint 3: Feature Engineering and Machine Learning**  \n",
    "Notebooks: `04_feature_engineering.ipynb`, `05_model_training.ipynb`  \n",
    "Focus: Extract features from transcripts, train classifiers to predict TED-likeness, and analyze important linguistic features.  \n",
    "\n",
    "**Sprint 4: Business Application**  \n",
    "Assets: `streamlit_app.py`, `06_results_and_interpretation.ipynb`  \n",
    "Focus: Deploy a user-facing Streamlit application that provides actionable presentation feedback. Include visual interpretation and documentation of results.\n",
    "\n",
    "This project follows a structured BI development lifecycle, using notebooks for reproducible analysis and Streamlit for interactive delivery. All steps are tracked via GitHub.\n"
   ]
  },
  {
   "cell_type": "markdown",
   "id": "a0459b5c-5401-4174-a7b9-11717d97bff5",
   "metadata": {},
   "source": [
    "**Tools:** Jupyter, pandas, sklearn, seaborn, TextBlob, Streamlit  \n",
    "**Versioning:** All work is tracked via GitHub repositories linked in Wiseflow  \n",
    "**Deployment:** Streamlit app with model + visualizations"
   ]
  },
  {
   "cell_type": "code",
   "execution_count": 51,
   "id": "c3375547-730c-4daa-8bfc-89163c899c4c",
   "metadata": {},
   "outputs": [],
   "source": [
    "def save_notebook_and_summary(notebook_name: str, summary: dict):\n",
    "    import json\n",
    "    from datetime import datetime\n",
    "    from pathlib import Path\n",
    "\n",
    "    try:\n",
    "        import IPython\n",
    "        from IPython.display import display, Javascript\n",
    "\n",
    "        if hasattr(IPython, \"get_ipython\"):\n",
    "            display(Javascript('IPython.notebook.save_checkpoint();'))\n",
    "            print(\"Notebook save triggered.\")\n",
    "        else:\n",
    "            print(\"Notebook save skipped (non-Notebook environment).\")\n",
    "    except Exception:\n",
    "        print(\"Notebook save skipped (not supported in this interface).\")\n",
    "\n",
    "    timestamp = datetime.now().strftime(\"%Y-%m-%d_%H-%M-%S\")\n",
    "    summary[\"notebook\"] = f\"{notebook_name}.ipynb\"\n",
    "    summary[\"timestamp\"] = timestamp\n",
    "\n",
    "    Path(\"../reports\").mkdir(parents=True, exist_ok=True)\n",
    "    summary_path = Path(\"../reports\") / f\"{notebook_name}_summary_{timestamp}.json\"\n",
    "\n",
    "    with open(summary_path, \"w\", encoding=\"utf-8\") as f:\n",
    "        json.dump(summary, f, indent=4)\n",
    "\n",
    "    print(f\"Summary saved to: {summary_path}\")\n"
   ]
  },
  {
   "cell_type": "code",
   "execution_count": 53,
   "id": "37b3341d-2031-48dc-9ec2-cf07db1130c7",
   "metadata": {},
   "outputs": [
    {
     "data": {
      "application/javascript": [
       "IPython.notebook.save_checkpoint();"
      ],
      "text/plain": [
       "<IPython.core.display.Javascript object>"
      ]
     },
     "metadata": {},
     "output_type": "display_data"
    },
    {
     "name": "stdout",
     "output_type": "stream",
     "text": [
      "Notebook save triggered.\n",
      "Summary saved to: ../reports/01_problem_statement_and_setup_summary_2025-05-25_23-34-03.json\n"
     ]
    }
   ],
   "source": [
    "save_notebook_and_summary(\n",
    "    notebook_name=\"01_problem_statement_and_setup\",\n",
    "    summary={\n",
    "        \"description\": \"Defined problem statement, research questions, BI sprint plan, and initial folder setup.\",\n",
    "        \"team_members\": [\n",
    "            \"Alberte Mary Wahlstrøm Vallentin\",\n",
    "            \"Felicia Favrholdt\",\n",
    "            \"Fatima Majid Shamcizadh\"\n",
    "        ],\n",
    "        \"sprints_defined\": 4,\n",
    "        \"folders_created\": [\"data\", \"models\", \"plots\", \"reports\"]\n",
    "    }\n",
    ")\n"
   ]
  },
  {
   "cell_type": "markdown",
   "id": "9f39c3bc-ff08-4b29-bbc5-880591ad63f6",
   "metadata": {},
   "source": [
    "------------------------"
   ]
  }
 ],
 "metadata": {
  "kernelspec": {
   "display_name": "Python [conda env:base] *",
   "language": "python",
   "name": "conda-base-py"
  },
  "language_info": {
   "codemirror_mode": {
    "name": "ipython",
    "version": 3
   },
   "file_extension": ".py",
   "mimetype": "text/x-python",
   "name": "python",
   "nbconvert_exporter": "python",
   "pygments_lexer": "ipython3",
   "version": "3.12.2"
  }
 },
 "nbformat": 4,
 "nbformat_minor": 5
}
