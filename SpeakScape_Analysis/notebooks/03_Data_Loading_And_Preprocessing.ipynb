{
 "cells": [
  {
   "cell_type": "markdown",
   "id": "c22d133a-f71c-4453-8be1-7a00b3be7b3e",
   "metadata": {},
   "source": [
    "# 03 — Data Loading and Preprocessing"
   ]
  },
  {
   "cell_type": "markdown",
   "id": "648c508a-7f38-4389-820d-c7e07c9975d7",
   "metadata": {},
   "source": [
    "This notebook loads the cleaned TED dataset and applies additional preprocessing to prepare the data for modeling and analysis.\n",
    "\n",
    "Focus areas include:\n",
    "- Text normalization (lowercasing, punctuation removal, lemmatization)\n",
    "- Feature extraction (word/sentence/char count, readability)\n",
    "- Visualizing linguistic structures\n",
    "- Saving a preprocessed dataset for modeling"
   ]
  },
  {
   "cell_type": "code",
   "execution_count": 12,
   "id": "e6b49c7f-9c76-4845-b9cf-23cc5b21ae1f",
   "metadata": {},
   "outputs": [
    {
     "name": "stdout",
     "output_type": "stream",
     "text": [
      "Environment initialized.\n"
     ]
    }
   ],
   "source": [
    "import sys\n",
    "import os\n",
    "import pandas as pd\n",
    "import numpy as np\n",
    "import matplotlib.pyplot as plt\n",
    "import seaborn as sns\n",
    "import re\n",
    "import string\n",
    "\n",
    "sys.path.append(os.path.abspath('.'))\n",
    "from utils.setup import init_environment\n",
    "init_environment()"
   ]
  },
  {
   "cell_type": "code",
   "execution_count": 16,
   "id": "8ca424e0-c2d2-4951-8879-71b810ab9715",
   "metadata": {},
   "outputs": [
    {
     "name": "stdout",
     "output_type": "stream",
     "text": [
      "Shape: (4095, 13)\n"
     ]
    },
    {
     "data": {
      "text/html": [
       "<div>\n",
       "<style scoped>\n",
       "    .dataframe tbody tr th:only-of-type {\n",
       "        vertical-align: middle;\n",
       "    }\n",
       "\n",
       "    .dataframe tbody tr th {\n",
       "        vertical-align: top;\n",
       "    }\n",
       "\n",
       "    .dataframe thead th {\n",
       "        text-align: right;\n",
       "    }\n",
       "</style>\n",
       "<table border=\"1\" class=\"dataframe\">\n",
       "  <thead>\n",
       "    <tr style=\"text-align: right;\">\n",
       "      <th></th>\n",
       "      <th>key_column</th>\n",
       "      <th>speaker_occupation</th>\n",
       "      <th>speaker</th>\n",
       "      <th>transcript</th>\n",
       "      <th>event</th>\n",
       "      <th>description</th>\n",
       "      <th>title</th>\n",
       "      <th>recorded_date</th>\n",
       "      <th>views</th>\n",
       "      <th>duration</th>\n",
       "      <th>url</th>\n",
       "      <th>tags</th>\n",
       "      <th>completeness_score</th>\n",
       "    </tr>\n",
       "  </thead>\n",
       "  <tbody>\n",
       "    <tr>\n",
       "      <th>0</th>\n",
       "      <td>https://www.ted.com/talks/maira_kalman_the_ill...</td>\n",
       "      <td>Illustrator, author</td>\n",
       "      <td>Maira Kalman</td>\n",
       "      <td>What I am always thinking about is what this s...</td>\n",
       "      <td>TED2007</td>\n",
       "      <td>Author and illustrator Maira Kalman talks abou...</td>\n",
       "      <td>The illustrated woman</td>\n",
       "      <td>2007-03-03</td>\n",
       "      <td>815011</td>\n",
       "      <td>1050</td>\n",
       "      <td>https://www.ted.com/talks/maira_kalman_the_ill...</td>\n",
       "      <td>['art', 'children', 'culture', 'design', 'ente...</td>\n",
       "      <td>100.0</td>\n",
       "    </tr>\n",
       "    <tr>\n",
       "      <th>1</th>\n",
       "      <td>https://www.ted.com/talks/virginia_postrel_on_...</td>\n",
       "      <td>Journalist</td>\n",
       "      <td>Virginia Postrel</td>\n",
       "      <td>You might be wondering why I'm wearing sunglas...</td>\n",
       "      <td>TED2004</td>\n",
       "      <td>In a timely talk, cultural critic Virginia Pos...</td>\n",
       "      <td>On glamour</td>\n",
       "      <td>2004-02-02</td>\n",
       "      <td>424070</td>\n",
       "      <td>975</td>\n",
       "      <td>https://www.ted.com/talks/virginia_postrel_on_...</td>\n",
       "      <td>['beauty', 'business', 'culture', 'entertainme...</td>\n",
       "      <td>100.0</td>\n",
       "    </tr>\n",
       "    <tr>\n",
       "      <th>2</th>\n",
       "      <td>https://www.ted.com/talks/robert_wright_the_ev...</td>\n",
       "      <td>Journalist, philosopher</td>\n",
       "      <td>Robert Wright</td>\n",
       "      <td>I'm going to talk about compassion and the gol...</td>\n",
       "      <td>TEDSalon 2009 Compassion</td>\n",
       "      <td>Robert Wright uses evolutionary biology and ga...</td>\n",
       "      <td>The evolution of compassion</td>\n",
       "      <td>2009-10-14</td>\n",
       "      <td>298774</td>\n",
       "      <td>1016</td>\n",
       "      <td>https://www.ted.com/talks/robert_wright_the_ev...</td>\n",
       "      <td>['charter for compassion', 'compassion', 'evol...</td>\n",
       "      <td>100.0</td>\n",
       "    </tr>\n",
       "    <tr>\n",
       "      <th>3</th>\n",
       "      <td>https://www.ted.com/talks/dennis_vanengelsdorp...</td>\n",
       "      <td>Bee expert</td>\n",
       "      <td>Dennis vanEngelsdorp</td>\n",
       "      <td>What I'd like you to do is, just really quickl...</td>\n",
       "      <td>Taste3 2008</td>\n",
       "      <td>Bees are dying in droves. Why? Leading apiaris...</td>\n",
       "      <td>A plea for bees</td>\n",
       "      <td>2008-07-19</td>\n",
       "      <td>765570</td>\n",
       "      <td>988</td>\n",
       "      <td>https://www.ted.com/talks/dennis_vanengelsdorp...</td>\n",
       "      <td>['animals', 'bees', 'disease', 'food', 'insect...</td>\n",
       "      <td>100.0</td>\n",
       "    </tr>\n",
       "    <tr>\n",
       "      <th>4</th>\n",
       "      <td>https://www.ted.com/talks/barry_schuler_genomi...</td>\n",
       "      <td>Entrepreneur</td>\n",
       "      <td>Barry Schuler</td>\n",
       "      <td>What's happening in genomics, and how this rev...</td>\n",
       "      <td>Taste3 2008</td>\n",
       "      <td>What is genomics? How will it affect our lives...</td>\n",
       "      <td>Genomics 101</td>\n",
       "      <td>2008-06-30</td>\n",
       "      <td>458222</td>\n",
       "      <td>1286</td>\n",
       "      <td>https://www.ted.com/talks/barry_schuler_genomi...</td>\n",
       "      <td>['biology', 'entrepreneur', 'food', 'genetics'...</td>\n",
       "      <td>100.0</td>\n",
       "    </tr>\n",
       "  </tbody>\n",
       "</table>\n",
       "</div>"
      ],
      "text/plain": [
       "                                          key_column       speaker_occupation  \\\n",
       "0  https://www.ted.com/talks/maira_kalman_the_ill...      Illustrator, author   \n",
       "1  https://www.ted.com/talks/virginia_postrel_on_...               Journalist   \n",
       "2  https://www.ted.com/talks/robert_wright_the_ev...  Journalist, philosopher   \n",
       "3  https://www.ted.com/talks/dennis_vanengelsdorp...               Bee expert   \n",
       "4  https://www.ted.com/talks/barry_schuler_genomi...             Entrepreneur   \n",
       "\n",
       "                speaker                                         transcript  \\\n",
       "0          Maira Kalman  What I am always thinking about is what this s...   \n",
       "1      Virginia Postrel  You might be wondering why I'm wearing sunglas...   \n",
       "2         Robert Wright  I'm going to talk about compassion and the gol...   \n",
       "3  Dennis vanEngelsdorp  What I'd like you to do is, just really quickl...   \n",
       "4         Barry Schuler  What's happening in genomics, and how this rev...   \n",
       "\n",
       "                      event  \\\n",
       "0                   TED2007   \n",
       "1                   TED2004   \n",
       "2  TEDSalon 2009 Compassion   \n",
       "3               Taste3 2008   \n",
       "4               Taste3 2008   \n",
       "\n",
       "                                         description  \\\n",
       "0  Author and illustrator Maira Kalman talks abou...   \n",
       "1  In a timely talk, cultural critic Virginia Pos...   \n",
       "2  Robert Wright uses evolutionary biology and ga...   \n",
       "3  Bees are dying in droves. Why? Leading apiaris...   \n",
       "4  What is genomics? How will it affect our lives...   \n",
       "\n",
       "                         title recorded_date   views  duration  \\\n",
       "0        The illustrated woman    2007-03-03  815011      1050   \n",
       "1                   On glamour    2004-02-02  424070       975   \n",
       "2  The evolution of compassion    2009-10-14  298774      1016   \n",
       "3              A plea for bees    2008-07-19  765570       988   \n",
       "4                 Genomics 101    2008-06-30  458222      1286   \n",
       "\n",
       "                                                 url  \\\n",
       "0  https://www.ted.com/talks/maira_kalman_the_ill...   \n",
       "1  https://www.ted.com/talks/virginia_postrel_on_...   \n",
       "2  https://www.ted.com/talks/robert_wright_the_ev...   \n",
       "3  https://www.ted.com/talks/dennis_vanengelsdorp...   \n",
       "4  https://www.ted.com/talks/barry_schuler_genomi...   \n",
       "\n",
       "                                                tags  completeness_score  \n",
       "0  ['art', 'children', 'culture', 'design', 'ente...               100.0  \n",
       "1  ['beauty', 'business', 'culture', 'entertainme...               100.0  \n",
       "2  ['charter for compassion', 'compassion', 'evol...               100.0  \n",
       "3  ['animals', 'bees', 'disease', 'food', 'insect...               100.0  \n",
       "4  ['biology', 'entrepreneur', 'food', 'genetics'...               100.0  "
      ]
     },
     "execution_count": 16,
     "metadata": {},
     "output_type": "execute_result"
    }
   ],
   "source": [
    "df = pd.read_csv(\"../data/cleaned_data.csv\")\n",
    "print(f\"Shape: {df.shape}\")\n",
    "df.head()"
   ]
  },
  {
   "cell_type": "code",
   "execution_count": null,
   "id": "876c8663-344f-409f-84c1-761adfc65269",
   "metadata": {},
   "outputs": [],
   "source": [
    "## 1. Dataset Overview and Structure"
   ]
  },
  {
   "cell_type": "code",
   "execution_count": null,
   "id": "99a7911b-dd4e-42fd-97ea-708fc69d9c63",
   "metadata": {},
   "outputs": [],
   "source": [
    "# Structure + Summary\n",
    "df.info()"
   ]
  },
  {
   "cell_type": "code",
   "execution_count": null,
   "id": "c82b5766-4816-4a6c-88ba-4a189827a392",
   "metadata": {},
   "outputs": [],
   "source": [
    "# Column Summary Table\n",
    "df.describe(include='all').transpose()"
   ]
  },
  {
   "cell_type": "code",
   "execution_count": null,
   "id": "bf9adf3f-48af-4827-979a-584cd55ad466",
   "metadata": {},
   "outputs": [],
   "source": [
    "# Missing & Type Overview\n",
    "summary_df = pd.DataFrame({\n",
    "    \"Column\": df.columns,\n",
    "    \"Non-Null Count\": df.notnull().sum(),\n",
    "    \"Missing Count\": df.isnull().sum(),\n",
    "    \"Missing %\": df.isnull().mean() * 100,\n",
    "    \"Unique Values\": df.nunique(),\n",
    "    \"Data Type\": df.dtypes.values\n",
    "}).sort_values(\"Missing %\", ascending=False)\n",
    "\n",
    "summary_df.style.bar(subset=[\"Missing %\"], color='lightcoral').format({\"Missing %\": \"{:.2f}%\"})\n"
   ]
  },
  {
   "cell_type": "code",
   "execution_count": null,
   "id": "b851a6cd-8158-4f85-8106-329da1a18868",
   "metadata": {},
   "outputs": [],
   "source": [
    "### Missing Values Summary\n",
    "\n",
    "This dataset has no missing values in any column. No imputation or filling is required.\n"
   ]
  },
  {
   "cell_type": "code",
   "execution_count": null,
   "id": "1509b1f9-47bb-4ff3-989a-af0a696a10e7",
   "metadata": {},
   "outputs": [],
   "source": [
    "## 2. Clean Transcript Column\n"
   ]
  },
  {
   "cell_type": "code",
   "execution_count": null,
   "id": "29c0a414-e98e-4f9e-afb1-8af70d823281",
   "metadata": {},
   "outputs": [],
   "source": [
    "# Base Cleaning\n",
    "def clean_text(text):\n",
    "    if pd.isnull(text):\n",
    "        return \"\"\n",
    "    text = text.lower()\n",
    "    text = re.sub(r\"\\[.*?\\]\", \"\", text)\n",
    "    text = re.sub(r\"\\s+\", \" \", text)\n",
    "    text = text.translate(str.maketrans(\"\", \"\", string.punctuation))\n",
    "    return text.strip()\n",
    "\n",
    "df[\"transcript_clean\"] = df[\"transcript\"].apply(clean_text)\n"
   ]
  },
  {
   "cell_type": "code",
   "execution_count": null,
   "id": "ffa1f1b2-dd73-4198-a9e7-7d4610aa01a9",
   "metadata": {},
   "outputs": [],
   "source": [
    "### Advanced Cleaning with Stopword Removal and Lemmatization\n"
   ]
  },
  {
   "cell_type": "code",
   "execution_count": null,
   "id": "2f1a457e-3b95-4522-8d45-343ea8bfeee3",
   "metadata": {},
   "outputs": [],
   "source": [
    "# Stopword Removal + Lemmatization\n",
    "import nltk\n",
    "nltk.download('stopwords')\n",
    "nltk.download('wordnet')\n",
    "nltk.download('omw-1.4')\n",
    "from nltk.corpus import stopwords\n",
    "from nltk.stem import WordNetLemmatizer\n",
    "\n",
    "stop_words = set(stopwords.words('english'))\n",
    "lemmatizer = WordNetLemmatizer()\n",
    "\n",
    "def advanced_clean(text):\n",
    "    words = text.split()\n",
    "    words = [lemmatizer.lemmatize(w) for w in words if w not in stop_words]\n",
    "    return ' '.join(words)\n",
    "\n",
    "df[\"word_count_original\"] = df[\"transcript_clean\"].apply(lambda x: len(x.split()))\n",
    "df[\"transcript_clean\"] = df[\"transcript_clean\"].apply(advanced_clean)\n",
    "df[\"word_count\"] = df[\"transcript_clean\"].apply(lambda x: len(x.split()))\n"
   ]
  },
  {
   "cell_type": "code",
   "execution_count": null,
   "id": "284db213-d9dc-419e-8025-1519c9c0b054",
   "metadata": {},
   "outputs": [],
   "source": [
    "## 3. Extract Text Features"
   ]
  },
  {
   "cell_type": "code",
   "execution_count": null,
   "id": "69232333-f7ed-4234-95cd-623dc8631615",
   "metadata": {},
   "outputs": [],
   "source": [
    "# Character Count\n",
    "df[\"char_count\"] = df[\"transcript_clean\"].apply(len)\n"
   ]
  },
  {
   "cell_type": "code",
   "execution_count": null,
   "id": "d4b76c82-670b-436f-861f-ab429771fdd1",
   "metadata": {},
   "outputs": [],
   "source": [
    "#Sentence Count\n",
    "nltk.download(\"punkt\")\n",
    "from nltk.tokenize import sent_tokenize\n",
    "\n",
    "df[\"sentence_count\"] = df[\"transcript\"].apply(lambda x: len(sent_tokenize(x)) if pd.notnull(x) else 0)\n"
   ]
  },
  {
   "cell_type": "code",
   "execution_count": null,
   "id": "346d3bf1-abd8-4997-b713-47c75beed077",
   "metadata": {},
   "outputs": [],
   "source": [
    "## 4. Readability Metrics\n"
   ]
  },
  {
   "cell_type": "code",
   "execution_count": null,
   "id": "98cdd9f1-7cfb-4ac5-a16c-5a8058ce1deb",
   "metadata": {},
   "outputs": [],
   "source": [
    "#Readability Calculations\n",
    "df[\"avg_sentence_length\"] = df[\"word_count\"] / df[\"sentence_count\"].replace(0, np.nan)\n",
    "df[\"avg_word_length\"] = df[\"char_count\"] / df[\"word_count\"].replace(0, np.nan)\n",
    "df[\"flesch_score\"] = 206.835 - (1.015 * df[\"avg_sentence_length\"]) - (84.6 * df[\"avg_word_length\"])\n",
    "df[\"flesch_kincaid_grade\"] = (0.39 * df[\"avg_sentence_length\"]) + (11.8 * df[\"avg_word_length\"]) - 15.59\n"
   ]
  },
  {
   "cell_type": "code",
   "execution_count": null,
   "id": "e166c375-bd8f-47d6-b1a6-973bed0621ff",
   "metadata": {},
   "outputs": [],
   "source": [
    "## 5. Word Count Comparison Before vs. After Cleaning\n"
   ]
  },
  {
   "cell_type": "code",
   "execution_count": null,
   "id": "fbac6091-af65-4c1c-9d96-059b0bfdfed1",
   "metadata": {},
   "outputs": [],
   "source": [
    "# Word Count Comparison Plot\n",
    "plt.figure(figsize=(10, 5))\n",
    "sns.histplot(df[\"word_count_original\"], label=\"Original\", color=\"gray\", bins=50, kde=True)\n",
    "sns.histplot(df[\"word_count\"], label=\"After Lemmatization\", color=\"cornflowerblue\", bins=50, kde=True)\n",
    "plt.title(\"Transcript Word Count: Original vs. Cleaned\")\n",
    "plt.xlabel(\"Word Count\")\n",
    "plt.ylabel(\"Frequency\")\n",
    "plt.legend()\n",
    "plt.tight_layout()\n",
    "plt.savefig(\"../plots/wordcount_comparison.png\")\n",
    "plt.show()\n"
   ]
  },
  {
   "cell_type": "code",
   "execution_count": null,
   "id": "4556e209-e8d0-48dd-91f0-cff5e257cfd9",
   "metadata": {},
   "outputs": [],
   "source": [
    "## 6. Visualize Linguistic Distributions\n"
   ]
  },
  {
   "cell_type": "code",
   "execution_count": null,
   "id": "99f47b5b-0d07-4de2-8305-f86f5481673d",
   "metadata": {},
   "outputs": [],
   "source": [
    "# Histograms\n",
    "\n",
    "fig, axes = plt.subplots(2, 2, figsize=(12, 8))\n",
    "\n",
    "sns.histplot(df[\"sentence_count\"], bins=50, ax=axes[0, 0], color=\"skyblue\")\n",
    "axes[0, 0].set_title(\"Sentence Count\")\n",
    "\n",
    "sns.histplot(df[\"avg_sentence_length\"].dropna(), bins=50, ax=axes[0, 1], color=\"salmon\")\n",
    "axes[0, 1].set_title(\"Average Sentence Length\")\n",
    "\n",
    "sns.histplot(df[\"avg_word_length\"].dropna(), bins=50, ax=axes[1, 0], color=\"lightgreen\")\n",
    "axes[1, 0].set_title(\"Average Word Length\")\n",
    "\n",
    "sns.histplot(df[\"flesch_score\"].dropna(), bins=50, ax=axes[1, 1], color=\"orchid\")\n",
    "axes[1, 1].set_title(\"Flesch Reading Ease Score\")\n",
    "\n",
    "plt.tight_layout()\n",
    "plt.savefig(\"../plots/readability_distributions.png\")\n",
    "plt.show()\n"
   ]
  },
  {
   "cell_type": "code",
   "execution_count": null,
   "id": "432255ef-26dc-4a8d-b045-956bae0eeec8",
   "metadata": {},
   "outputs": [],
   "source": [
    "## 7. Correlation Between Linguistic Features\n"
   ]
  },
  {
   "cell_type": "code",
   "execution_count": null,
   "id": "eb1932e5-3db2-4feb-8394-0c9a86ca0f0d",
   "metadata": {},
   "outputs": [],
   "source": [
    "# Correlation Heatmap\n",
    "features_to_plot = [\n",
    "    \"word_count\", \"sentence_count\", \"char_count\",\n",
    "    \"avg_sentence_length\", \"avg_word_length\",\n",
    "    \"flesch_score\", \"flesch_kincaid_grade\"\n",
    "]\n",
    "\n",
    "plt.figure(figsize=(10, 6))\n",
    "sns.heatmap(df[features_to_plot].corr(), annot=True, cmap=\"coolwarm\", fmt=\".2f\")\n",
    "plt.title(\"Correlation of Linguistic Features\")\n",
    "plt.tight_layout()\n",
    "plt.savefig(\"../plots/linguistic_feature_correlation.png\")\n",
    "plt.show()\n"
   ]
  },
  {
   "cell_type": "code",
   "execution_count": null,
   "id": "d3ac44b5-3660-489f-8cec-8a6f3f378852",
   "metadata": {},
   "outputs": [],
   "source": [
    "## 8. Save Preprocessed Data\n"
   ]
  },
  {
   "cell_type": "code",
   "execution_count": null,
   "id": "ec70e1cd-d0c4-47da-b418-85a8ad5b1172",
   "metadata": {},
   "outputs": [],
   "source": [
    "output_path = \"../data/preprocessed_data.csv\"\n",
    "df.to_csv(output_path, index=False)\n",
    "print(f\"Preprocessed data saved to: {output_path}\")\n"
   ]
  },
  {
   "cell_type": "code",
   "execution_count": null,
   "id": "b8790cde-8ef5-4986-8a5a-c6371dce555d",
   "metadata": {},
   "outputs": [],
   "source": [
    "-----------------------"
   ]
  }
 ],
 "metadata": {
  "kernelspec": {
   "display_name": "Python [conda env:base] *",
   "language": "python",
   "name": "conda-base-py"
  },
  "language_info": {
   "codemirror_mode": {
    "name": "ipython",
    "version": 3
   },
   "file_extension": ".py",
   "mimetype": "text/x-python",
   "name": "python",
   "nbconvert_exporter": "python",
   "pygments_lexer": "ipython3",
   "version": "3.12.2"
  }
 },
 "nbformat": 4,
 "nbformat_minor": 5
}
