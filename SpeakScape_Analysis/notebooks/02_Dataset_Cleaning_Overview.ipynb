{
 "cells": [
  {
   "cell_type": "markdown",
   "id": "f0fcc06f-2092-4245-ba38-8b276c3033bf",
   "metadata": {},
   "source": [
    "# Notebook 02 - Dataset Cleaning Overview"
   ]
  },
  {
   "cell_type": "markdown",
   "id": "664f6f34-53a2-4208-9290-7a2882a1d7b3",
   "metadata": {},
   "source": [
    "This notebook documents how we merged and cleaned the TED_2017 and TED_2020 datasets for the SpeakScape project.\n",
    "\n",
    "The goal is to create a consistent, high-quality dataset for analyzing presentation content and predicting engagement. This cleaned dataset will serve as input to our modeling and feedback pipeline."
   ]
  },
  {
   "cell_type": "markdown",
   "id": "cccd0650-b833-4ee0-8aeb-41ac26cd2d7c",
   "metadata": {},
   "source": [
    "## Purpose of the Combined Dataset\n",
    "\n",
    "We built a clean, structured dataset by:\n",
    "- Merging TED_2017 and TED_2020 datasets\n",
    "- Dropping noisy, incomplete, or irrelevant columns\n",
    "- Standardizing column names across datasets\n",
    "- Retaining only linguistically and engagement-relevant features\n",
    "\n",
    "This makes the dataset suitable for:\n",
    "- Linguistic feature analysis\n",
    "- Engagement prediction\n",
    "- Text-based machine learning\n",
    "- Generating actionable content feedback\n",
    "\n",
    "Key goals of this cleaning phase:\n",
    "\n",
    "- Focus on content-related columns only (e.g., transcripts, titles, tags)\n",
    "- Remove metadata not authored by speakers\n",
    "- Drop high-missing or derived columns\n",
    "- Harmonize schemas across datasets\n",
    "\n",
    "This allows us to build models that focus exclusively on what speakers say — not metadata controlled by platforms."
   ]
  },
  {
   "cell_type": "markdown",
   "id": "a107469f-1bab-4953-bfa2-aaa7456af12c",
   "metadata": {},
   "source": [
    "## Project Cleaning Scope and Goals\n",
    "\n",
    "To support linguistic analysis and predictive modeling, we constructed a clean, standardized dataset by merging TED Talks data from two sources: TED_2017 and TED_2020.\n",
    "\n",
    "Our preprocessing goals were to:\n",
    "- Focus strictly on content-related features (titles, transcripts, etc.)\n",
    "- Remove platform-specific metadata and redundant fields\n",
    "- Ensure high completeness across retained columns\n",
    "- Harmonize naming conventions for consistent downstream use"
   ]
  },
  {
   "cell_type": "markdown",
   "id": "62d3658d-f36d-416c-92e3-7776c880743e",
   "metadata": {},
   "source": [
    "## How This Dataset Supports Our Research Questions\n",
    "\n",
    "| Research Question                                  | How the Dataset Helps                                      |\n",
    "|---------------------------------------------------|-------------------------------------------------------------|\n",
    "| Which linguistic features correlate with engagement? | Use transcript + views to train models                    |\n",
    "| How to predict presentation success?              | Supervised models with features → views or TED-likeness    |\n",
    "| How to provide actionable feedback?               | Feature importance + comparisons with TED patterns         |\n",
    "| How to personalize feedback?                      | Use `tags`, `duration`, and `event` to group and benchmark |\n"
   ]
  },
  {
   "cell_type": "markdown",
   "id": "e75747ac-f520-430c-9935-c377d58aeb57",
   "metadata": {},
   "source": [
    "## Reasons for Dropping Columns\n",
    "\n",
    "- **Content over metadata**: Focus on what the speaker says, not how TED hosts it\n",
    "- **High missing data rates**: Avoid biased or incomplete modeling\n",
    "- **Redundancy**: Avoid duplicate content (e.g., `name` vs. `title`)\n",
    "- **Platform-generated fields**: Not reflective of speaker performance (e.g., `talk_recommendations`, `related_talks`)\n"
   ]
  },
  {
   "cell_type": "markdown",
   "id": "d0ac7d3f-8c09-4ee8-bed4-7b77d7d79de7",
   "metadata": {},
   "source": [
    "-------------------------------"
   ]
  },
  {
   "cell_type": "markdown",
   "id": "7c1c065f-96ca-4cba-bd6d-45eac4dcb4ec",
   "metadata": {},
   "source": [
    "## Data Sources Summary\n",
    "\n",
    "| Source     | Original Records | Cleaned Records | % Excluded | Reason for Exclusion                    |\n",
    "|------------|------------------|------------------|------------|------------------------------------------|\n",
    "| TED_2017   | 2,549            | 2,453            | 3.77%      | 86 missing transcripts, 10 too short     |\n",
    "| TED_2020   | 4,589            | 4,076            | 11.16%     | 502 missing transcripts, 10 too short    |\n"
   ]
  },
  {
   "cell_type": "markdown",
   "id": "1eb78abe-5d2d-4eba-bb20-d60452921f99",
   "metadata": {},
   "source": [
    "## Column Exclusion Strategy\n",
    "\n",
    "We excluded a number of columns from TED_2017 and TED_2020 based on the following criteria:\n",
    "\n",
    "1. Irrelevance to linguistic content or modeling goals  \n",
    "2. High proportion of missing values  \n",
    "3. Redundancy or derivation from other columns  \n",
    "\n",
    "\n",
    "### TED_2017 Dataset – 7 Columns Dropped\n",
    "\n",
    "| Dropped Column     | Rationale                                                  | Missing Data Impact        |\n",
    "|--------------------|------------------------------------------------------------|-----------------------------|\n",
    "| `comments`         | Secondary metric; `views` is more complete and reliable    | Moderate                    |\n",
    "| `languages`        | Filtered for English-only talks                            | None                        |\n",
    "| `name`             | Duplicate of `title`                                       | None                        |\n",
    "| `num_speaker`      | Not relevant for linguistic modeling                       | None                        |\n",
    "| `published_date`   | `recorded_date` is more relevant                           | None                        |\n",
    "| `ratings`          | Complex nested data with high missing values               | High                        |\n",
    "| `related_talks`    | Platform recommendation metadata, not speaker content      | None                        |\n"
   ]
  },
  {
   "cell_type": "markdown",
   "id": "cd1d7f18-cc81-414c-8f7d-c5b961051994",
   "metadata": {},
   "source": [
    "### TED_2020 Dataset – 41 Columns Dropped (Grouped)\n",
    "\n",
    "**A. Platform & Technical Metadata (15 columns)**  \n",
    "Includes: `video_type_name`, `url__audio`, `intro_duration`, `is_talk_featured`, etc.  \n",
    "**Reason:** Not related to speaker-created content.\n",
    "\n",
    "**B. Redundant Count Fields (8 columns)**  \n",
    "Includes: `number_of__tags`, `number_of__related_talks`, etc.  \n",
    "**Reason:** Derivable from primary fields; adds no value.\n",
    "\n",
    "**C. Speaker Biographical Data (6 columns)**  \n",
    "Includes: `speaker__id`, `speaker__why_listen`, `speaker__what_others_say`, etc.  \n",
    "**Missing Data Impact:** 30–70% missing  \n",
    "**Reason:** Out of scope for content-focused analysis.\n",
    "\n",
    "**D. Language & Localization (4 columns)**  \n",
    "Includes: `language`, `native_language`, `language_swap`, etc.  \n",
    "**Reason:** Irrelevant; only English talks included.\n",
    "\n",
    "**E. Recommendation & Related Content (5 columns)**  \n",
    "Includes: `talk__recommendations`, `talk__more_resources`, etc.  \n",
    "**Missing Data Impact:** Very high (>50%)  \n",
    "**Reason:** Platform-generated content, not speaker-authored.\n",
    "\n",
    "**F. Administrative Metadata (3 columns)**  \n",
    "Includes: `talk__id`, `comment_count`, `published_timestamp`  \n",
    "**Reason:** No modeling value or redundant with `views` / `recorded_date`\n"
   ]
  },
  {
   "cell_type": "markdown",
   "id": "2e73642b-ceb5-4efc-88cd-a85ad1bff63c",
   "metadata": {},
   "source": [
    "### Data Quality Considerations\n",
    "\n",
    "We excluded columns with significant missing data:\n",
    "\n",
    "| Column Category        | Missing Data Range | Impact on Analysis                |\n",
    "|------------------------|--------------------|-----------------------------------|\n",
    "| Speaker biographical   | 30–70%             | Reduces usable sample size        |\n",
    "| Recommendation content | 50–80%             | Too incomplete for feature use    |\n",
    "| Comments / Ratings     | 25–50%             | Alternative metrics already used  |\n"
   ]
  },
  {
   "cell_type": "markdown",
   "id": "39f80d4e-3098-4f99-be35-5c9997048563",
   "metadata": {},
   "source": [
    "## Cleaning Summary\n",
    "\n",
    "### Record Exclusions\n",
    "\n",
    "| Dataset   | Original | Cleaned | Excluded | % Excluded |\n",
    "|-----------|----------|---------|----------|------------|\n",
    "| TED_2017  | 2,549    | 2,453   | 96       | 3.77%      |\n",
    "| TED_2020  | 4,589    | 4,076   | 513      | 11.16%     |\n",
    "\n",
    "### Text Reduction\n",
    "\n",
    "The total text volume (in characters) was significantly reduced by removing filler tags, reactions, and non-essential content.\n",
    "\n",
    "- **TED_2017**: 69.4% reduction\n",
    "- **TED_2020**: 72.0% reduction\n",
    "\n",
    "### Cleaning Operations Summary\n",
    "\n",
    "- Removed audience reactions (e.g., `[Laughter]`, `[Applause]`)\n",
    "- Normalized URL fields, titles, and casing\n",
    "- Unified schemas and standardized column names\n",
    "- Recovered missing transcripts where possible (TED_2017)\n",
    "- Excluded talks with insufficient or broken content\n"
   ]
  },
  {
   "cell_type": "code",
   "execution_count": 73,
   "id": "9e19cfdf-cafc-4123-b14d-8fb61fd7dfaa",
   "metadata": {},
   "outputs": [
    {
     "name": "stdout",
     "output_type": "stream",
     "text": [
      "Environment initialized.\n"
     ]
    }
   ],
   "source": [
    "from utils.setup import init_environment\n",
    "init_environment()"
   ]
  },
  {
   "cell_type": "code",
   "execution_count": 74,
   "id": "71049d0b-355c-4fb0-a214-307ab83b70d0",
   "metadata": {},
   "outputs": [
    {
     "data": {
      "image/png": "[encoded data removed]",
      "text/plain": [
       "<Figure size 600x600 with 1 Axes>"
      ]
     },
     "metadata": {},
     "output_type": "display_data"
    }
   ],
   "source": [
    "import matplotlib.pyplot as plt\n",
    "\n",
    "recovered = 37\n",
    "excluded = 49\n",
    "\n",
    "plt.figure(figsize=(6, 6))\n",
    "plt.pie([recovered, excluded], labels=[\"Recovered\", \"Not Recovered\"], autopct=\"%d talks\", colors=[\"#66c2a5\", \"#fc8d62\"], startangle=140)\n",
    "plt.title(\"TED_2017 Transcript Recovery\")\n",
    "plt.tight_layout()\n",
    "plt.savefig(\"../plots/ted_2017_recovery_pie.png\")\n",
    "plt.show()"
   ]
  },
  {
   "cell_type": "code",
   "execution_count": 95,
   "id": "b5a1d432-382a-454f-8979-b5b3eda7acb4",
   "metadata": {},
   "outputs": [
    {
     "data": {
      "application/javascript": [
       "IPython.notebook.save_checkpoint();"
      ],
      "text/plain": [
       "<IPython.core.display.Javascript object>"
      ]
     },
     "metadata": {},
     "output_type": "display_data"
    },
    {
     "name": "stdout",
     "output_type": "stream",
     "text": [
      "Notebook save triggered.\n",
      "Summary saved to: ../reports/02_dataset_cleaning_overview_summary_2025-05-26_04-11-30.json\n"
     ]
    }
   ],
   "source": [
    "from utils.save_tools import save_notebook_and_summary\n",
    "\n",
    "cleaning_summary = {\n",
    "    \"TED_2017\": {\n",
    "        \"original\": 2549,\n",
    "        \"cleaned\": 2453,\n",
    "        \"excluded\": 96,\n",
    "        \"recovered\": 37,\n",
    "        \"text_reduction_pct\": 69.4\n",
    "    },\n",
    "    \"TED_2020\": {\n",
    "        \"original\": 4589,\n",
    "        \"cleaned\": 4076,\n",
    "        \"excluded\": 513,\n",
    "        \"text_reduction_pct\": 72.0\n",
    "    },\n",
    "    \"final_total\": 6531,\n",
    "    \"combined_schema\": [\n",
    "        \"url\", \"title\", \"description\", \"speaker\", \"speaker_occupation\",\n",
    "        \"views\", \"duration\", \"recorded_date\", \"event\", \"tags\", \"transcript\"\n",
    "    ],\n",
    "    \"columns_dropped\": {\n",
    "        \"TED_2017\": [\"comments\", \"languages\", \"name\", \"num_speaker\", \"published_date\", \"ratings\", \"related_talks\"],\n",
    "        \"TED_2020\": [\n",
    "            \"talk__id\", \"comment_count\", \"video_type_name\", \"number_of__speakers\",\n",
    "            \"speaker__id\", \"speaker__who_he_is\", \"speaker__why_listen\",\n",
    "            \"speaker__what_others_say\", \"speaker__is_published\", \"all_speakers_details\",\n",
    "            \"is_talk_featured\", \"has_talk_citation\", \"published_timestamp\", \"number_of__tags\",\n",
    "            \"language\", \"native_language\", \"language_swap\", \"is_subtitle_required\",\n",
    "            \"url__audio\", \"url__video\", \"url__photo__talk\", \"url__photo__speaker\",\n",
    "            \"url__subtitled_videos\", \"number_of__subtitled_videos\", \"talk__download_languages\",\n",
    "            \"number_of__talk__download_languages\", \"talk__more_resources\", \"number_of__talk__more_resources\",\n",
    "            \"talk__recommendations__blurb\", \"talk__recommendations\", \"number_of__talk__recommendations\",\n",
    "            \"related_talks\", \"number_of__related_talks\", \"intro_duration\", \"ad_duration\", \"post_ad_duration\",\n",
    "            \"external__duration\", \"external__start_time\", \"talks__player_talks__resources__h264__00__bitrate\",\n",
    "            \"talks__take_action\", \"number_of__talks__take_actions\"\n",
    "        ]\n",
    "    }\n",
    "}\n",
    "\n",
    "save_notebook_and_summary(\n",
    "    notebook_name=\"02_dataset_cleaning_overview\",\n",
    "    summary={\n",
    "        \"description\": \"Merged and cleaned TED_2017 and TED_2020 datasets; removed platform-related metadata; exported a unified schema.\",\n",
    "        \"record_summary\": cleaning_summary\n",
    "    }\n",
    ")"
   ]
  },
  {
   "cell_type": "code",
   "execution_count": null,
   "id": "0a7fba41-578e-400a-9288-b47c1cf32c6a",
   "metadata": {},
   "outputs": [],
   "source": [
    "df_combined.to_csv(\"../data/cleaned_data.csv\", index=False)"
   ]
  },
  {
   "cell_type": "markdown",
   "id": "ba370d8c-d0f2-45c4-867f-9f3ca469b761",
   "metadata": {},
   "source": [
    "---------------------"
   ]
  },
  {
   "cell_type": "markdown",
   "id": "80ee9464-8d0e-45c0-a363-72eff52b4e50",
   "metadata": {},
   "source": [
    "### Column Mapping Strategy\n",
    "\n",
    "TED_2020 columns were renamed to match TED_2017 for schema harmonization:\n",
    "\n",
    "| Original Column         | Standardized Name     |\n",
    "|-------------------------|------------------------|\n",
    "| `url__webpage`          | `url`                 |\n",
    "| `talk__name`            | `title`               |\n",
    "| `talk__description`     | `description`         |\n",
    "| `speaker__name`         | `speaker`             |\n",
    "| `speaker__description`  | `speaker_occupation`  |\n",
    "| `view_count`            | `views`               |\n",
    "| `duration`              | `duration`            |\n",
    "| `recording_date`        | `recorded_date`       |\n",
    "| `event`                 | `event`               |\n",
    "| `talks__tags`           | `tags`                |\n",
    "| `transcript`            | `transcript`          |\n"
   ]
  },
  {
   "cell_type": "markdown",
   "id": "4163643e-4d8c-4cf5-b459-dd9090461697",
   "metadata": {},
   "source": [
    "### Final Retained Columns\n",
    "\n",
    "| Category              | Column               | Purpose                                       |\n",
    "|-----------------------|----------------------|-----------------------------------------------|\n",
    "| Core Content Data     | `title`              | Talk title                                    |\n",
    "|                       | `transcript`         | Main body of text for analysis                |\n",
    "|                       | `description`        | Contextual metadata                           |\n",
    "|                       | `tags`               | Topic labels                                  |\n",
    "|                       | `speaker`            | Speaker identity                              |\n",
    "| Engagement Metric     | `views`              | Used as the main label or correlation target  |\n",
    "| Temporal Data         | `recorded_date`      | Enables trend and cohort analysis             |\n",
    "| Metadata              | `duration`, `event`  | Contextual structuring                        |\n"
   ]
  },
  {
   "cell_type": "markdown",
   "id": "7dd233b9-1384-4d85-974f-eedf5476c628",
   "metadata": {},
   "source": [
    "### Data Completeness Strategy\n",
    "\n",
    "We retained only high-quality columns with near-complete data coverage:\n",
    "\n",
    "- `transcript` — 89% completeness (TED_2020)\n",
    "- `title`, `speaker`, `duration`, `views` — >99% completeness\n",
    "- `event`, `tags` — 100% complete"
   ]
  },
  {
   "cell_type": "markdown",
   "id": "68287b91-d797-4c85-b813-6e95fbdab318",
   "metadata": {},
   "source": [
    "### Impact on Research Objectives\n",
    "\n",
    "This column selection strategy:\n",
    "\n",
    "- Enables core analysis of speaker-written content  \n",
    "- Preserves all features required for linguistic modeling  \n",
    "- Avoids incomplete, noisy, or irrelevant metadata  \n",
    "- Reduces complexity for reproducibility and deployment  \n",
    "- Aligns with SpeakScape's content-based feedback goals\n",
    "\n",
    "---\n",
    "\n",
    "### Alternative Considerations\n",
    "\n",
    "We considered retaining:\n",
    "\n",
    "- `comment_count` — could be a secondary engagement proxy  \n",
    "- `speaker__description` — may signal expertise  \n",
    "- `has_talk_citation` — potential content credibility flag\n",
    "\n",
    "These were excluded due to high missingness or indirect relevance.\n"
   ]
  },
  {
   "cell_type": "markdown",
   "id": "4c143c06-a10b-4e66-ab11-904a7c470dc2",
   "metadata": {},
   "source": [
    "### Alignment with BI Project Criteria\n",
    "\n",
    "- **Relevance**: Focuses on content quality rather than metadata noise\n",
    "- **Data Engineering**: Full ETL process applied with schema harmonization across datasets\n",
    "- **Model Support**: Results in a structured dataset ideal for classification and NLP modeling\n",
    "- **Reproducibility**: All cleaning logic, column mappings, and outputs are documented and saved"
   ]
  },
  {
   "cell_type": "markdown",
   "id": "c7222a38-cc14-47fc-99f0-24280eddf773",
   "metadata": {},
   "source": [
    "## Conclusion\n",
    "\n",
    "Our column selection and data cleaning pipeline prioritize content quality and modeling relevance. By focusing strictly on speaker-authored data with high completeness, we ensure a robust foundation for machine learning and interactive feedback delivery in SpeakScape."
   ]
  }
 ],
 "metadata": {
  "kernelspec": {
   "display_name": "Python [conda env:base] *",
   "language": "python",
   "name": "conda-base-py"
  },
  "language_info": {
   "codemirror_mode": {
    "name": "ipython",
    "version": 3
   },
   "file_extension": ".py",
   "mimetype": "text/x-python",
   "name": "python",
   "nbconvert_exporter": "python",
   "pygments_lexer": "ipython3",
   "version": "3.12.2"
  }
 },
 "nbformat": 4,
 "nbformat_minor": 5
}
