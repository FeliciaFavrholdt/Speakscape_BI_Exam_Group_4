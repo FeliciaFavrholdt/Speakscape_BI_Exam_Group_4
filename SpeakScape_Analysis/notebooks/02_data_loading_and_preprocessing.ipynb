{
 "cells": [
  {
   "cell_type": "markdown",
   "id": "bf3caa43",
   "metadata": {},
   "source": [
    "# Data Loading and Preprocessing\n",
    "This notebook loads and cleans the text data."
   ]
  },
  {
   "cell_type": "code",
   "execution_count": null,
   "id": "d66a3dd2",
   "metadata": {},
   "outputs": [],
   "source": []
  }
 ],
 "metadata": {
  "language_info": {
   "name": "python"
  }
 },
 "nbformat": 4,
 "nbformat_minor": 5
}
